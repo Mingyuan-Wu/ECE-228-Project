{
 "cells": [
  {
   "cell_type": "code",
   "execution_count": 11,
   "metadata": {},
   "outputs": [
    {
     "data": {
      "text/plain": [
       "<torch._C.Generator at 0x1fb285eba70>"
      ]
     },
     "execution_count": 11,
     "metadata": {},
     "output_type": "execute_result"
    }
   ],
   "source": [
    "import torch\n",
    "from torch.autograd import Variable\n",
    "import torch.utils.data as Data\n",
    "import torch.nn as nn\n",
    "import matplotlib.pyplot as plt\n",
    "import torch.optim as optim\n",
    "\n",
    "from matplotlib import cm\n",
    "import numpy as np\n",
    "import copy\n",
    "\n",
    "import time\n",
    "torch.manual_seed(1)  # reproducible"
   ]
  },
  {
   "cell_type": "code",
   "execution_count": 12,
   "metadata": {},
   "outputs": [],
   "source": [
    "class Net(nn.Module):\n",
    "    def __init__(self,inp,out, activation, num_hidden_units=100, num_layers=1):\n",
    "        super(Net, self).__init__()\n",
    "        self.fc1 = nn.Linear(inp, num_hidden_units, bias=True)\n",
    "        torch.nn.Dropout(0.3)\n",
    "        self.fc2 = nn.ModuleList()\n",
    "        for i in range(num_layers):\n",
    "            self.fc2.append(nn.Linear(num_hidden_units, num_hidden_units, bias=True))\n",
    "            torch.nn.Dropout(0.3)\n",
    "        self.fc3 = nn.Linear(num_hidden_units, out, bias=True)\n",
    "        self.activation = activation\n",
    "\n",
    "    def forward(self, x):\n",
    "        x = self.fc1(x)\n",
    "        x = self.activation(x)\n",
    "        for fc in self.fc2:\n",
    "            x = fc(x)\n",
    "            x = self.activation(x)\n",
    "        x = self.fc3(x)\n",
    "        return x\n",
    "\n",
    "    def predict(self, x):\n",
    "        self.eval()\n",
    "        y = self(x)\n",
    "        x = x.cpu().numpy().flatten()\n",
    "        y = y.cpu().detach().numpy().flatten()\n",
    "        return [x, y]\n"
   ]
  },
  {
   "cell_type": "code",
   "execution_count": 13,
   "metadata": {},
   "outputs": [],
   "source": [
    "def plotLoss(lossTotal, lossRegular, lossDerivatives):\n",
    "\n",
    "    fig, ax = plt.subplots(1, 1, dpi=120)\n",
    "    plt.semilogy(lossTotal / lossTotal[0], label='Total loss')\n",
    "    plt.semilogy(lossRegular[:, 0] / lossRegular[0], label='Regular loss')\n",
    "    plt.semilogy(lossDerivatives[:, 0] / lossDerivatives[0], label='Derivatives loss')\n",
    "    ax.set_xlabel(\"epochs\")\n",
    "    ax.set_ylabel(\"L/L0\")\n",
    "    ax.legend()\n",
    "    fig.subplots_adjust(left=0.1, right=0.9, bottom=0.15, top=0.9, wspace=0.3, hspace=0.2)\n",
    "    #plt.savefig(\"figures/Loss.png\")\n",
    "    plt.show()"
   ]
  },
  {
   "cell_type": "code",
   "execution_count": 14,
   "metadata": {},
   "outputs": [],
   "source": [
    "def train(lam1, loader, EPOCH, BATCH_SIZE):\n",
    "    state = copy.deepcopy(net.state_dict())\n",
    "    best_loss = np.inf\n",
    "    \n",
    "\n",
    "    lossTotal = np.zeros((EPOCH, 1))\n",
    "    lossRegular = np.zeros((EPOCH, 1))\n",
    "    lossDerivatives = np.zeros((EPOCH, 1))\n",
    "    \n",
    "    n = np.array(lam1).shape[0]\n",
    "    m = EPOCH//n\n",
    "    # start training\n",
    "    for epoch in range(EPOCH):\n",
    "        epoch_mse0 = 0.0\n",
    "        epoch_mse1 = 0.0\n",
    "        lamda = lam1[epoch//m]\n",
    "\n",
    "        for step, (batch_x, batch_y) in enumerate(loader):  # for each training step\n",
    "            \n",
    "            b_x = Variable(batch_x)\n",
    "            b_y = Variable(batch_y)\n",
    "\n",
    "\n",
    "            net.eval()\n",
    "            b_x.requires_grad = True\n",
    "\n",
    "            output0 = net(b_x)\n",
    "            output0.sum().backward(retain_graph=True, create_graph=True)\n",
    "            output1 = b_x.grad\n",
    "            b_x.requires_grad = False\n",
    "\n",
    "            net.train()\n",
    "\n",
    "            mse0 = loss_func(output0, b_y[:,0:1])\n",
    "            mse1 = loss_func(output1, b_y[:,1:17])\n",
    "            epoch_mse0 += mse0.item() * BATCH_SIZE\n",
    "            epoch_mse1 += mse1.item() * BATCH_SIZE\n",
    "\n",
    "            loss = mse0 + lamda * mse1\n",
    "\n",
    "\n",
    "            optimizer.zero_grad()  # clear gradients for next train\n",
    "            loss.backward()  # backpropagation, compute gradients\n",
    "            optimizer.step()  # apply gradients\n",
    "\n",
    "        scheduler.step()\n",
    "        epoch_mse0 /= num_data\n",
    "        epoch_mse1 /= num_data\n",
    "        epoch_loss = epoch_mse0+lamda*epoch_mse1\n",
    "\n",
    "        y_pred = output0\n",
    "        \n",
    "        lossTotal[epoch] = epoch_loss\n",
    "        lossRegular[epoch] = epoch_mse0\n",
    "        lossDerivatives[epoch] = epoch_mse1\n",
    "        if epoch%2==0:\n",
    "            print('epoch', epoch,\n",
    "              'lr', '{:.7f}'.format(optimizer.param_groups[0]['lr']),\n",
    "              'mse0', '{:.5f}'.format(epoch_mse0),\n",
    "              'mse1', '{:.5f}'.format(epoch_mse1),\n",
    "              'loss', '{:.5f}'.format(epoch_loss))\n",
    "        if epoch_loss < best_loss:\n",
    "            best_loss = epoch_loss\n",
    "            state = copy.deepcopy(net.state_dict())\n",
    "    #state = copy.deepcopy(net.state_dict())\n",
    "    print('Best score:', best_loss)\n",
    "    return state, lossTotal, lossRegular, lossDerivatives"
   ]
  },
  {
   "cell_type": "code",
   "execution_count": 15,
   "metadata": {},
   "outputs": [
    {
     "name": "stdout",
     "output_type": "stream",
     "text": [
      "torch.Size([42039, 1])\n",
      "torch.Size([42039, 16])\n",
      "torch.Size([42039])\n",
      "torch.Size([42039, 17])\n",
      "torch.Size([42039, 17])\n"
     ]
    }
   ],
   "source": [
    "# Load both transonic and subsonic data\n",
    "X_subTr = np.loadtxt('X_subTr.dat')\n",
    "X_subV = np.loadtxt('X_subV.dat')\n",
    "y_subCdTr = (np.loadtxt('y_subCdTr.dat')).reshape((-1,1))\n",
    "y_subCdV = (np.loadtxt('y_subCdV.dat')).reshape((-1,1))\n",
    "dy_subCdTr = np.loadtxt('dy_subCdTr.dat')\n",
    "dy_subCdV = np.loadtxt('dy_subCdV.dat')\n",
    "XTr = X_subTr\n",
    "XV = X_subV\n",
    "yTr = y_subCdTr\n",
    "yV = y_subCdV\n",
    "dyTr = dy_subCdTr\n",
    "dyV = dy_subCdV\n",
    "x_tr_ts=torch.from_numpy(XTr).float()\n",
    "y_tr_ts=torch.from_numpy(yTr).float()\n",
    "x_va_ts=torch.from_numpy(XV).float()\n",
    "y_va_ts=torch.from_numpy(yV).float()\n",
    "dy_tr_ts = torch.from_numpy(dyTr).float()         \n",
    "dy_va_ts = torch.from_numpy(dyTr).float() \n",
    "print(np.shape(y_tr_ts))\n",
    "print(np.shape(dy_tr_ts))\n",
    "print(np.shape(torch.from_numpy(dyTr[:,0])))\n",
    "\n",
    "train_y = torch.cat([y_tr_ts, dy_tr_ts], dim = 1).squeeze(1)\n",
    "print(np.shape(train_y ))\n",
    "train_y = torch.cat([y_tr_ts, dy_tr_ts], dim = 1)\n",
    "print(np.shape(train_y ))"
   ]
  },
  {
   "cell_type": "code",
   "execution_count": 16,
   "metadata": {},
   "outputs": [
    {
     "data": {
      "text/plain": [
       "torch.Size([42039, 17])"
      ]
     },
     "execution_count": 16,
     "metadata": {},
     "output_type": "execute_result"
    }
   ],
   "source": [
    "train_y = torch.cat([y_tr_ts, dy_tr_ts], dim = 1)\n",
    "train_y.shape"
   ]
  },
  {
   "cell_type": "code",
   "execution_count": 17,
   "metadata": {},
   "outputs": [
    {
     "name": "stdout",
     "output_type": "stream",
     "text": [
      "16\n",
      "epoch 0 lr 0.0000100 mse0 10.31399 mse1 4.48302 loss 10.76229\n",
      "epoch 2 lr 0.0000100 mse0 2.57598 mse1 4.48008 loss 3.02399\n",
      "epoch 4 lr 0.0000100 mse0 0.37770 mse1 4.48422 loss 0.82613\n",
      "epoch 6 lr 0.0000100 mse0 0.13013 mse1 4.48429 loss 0.57856\n",
      "epoch 8 lr 0.0000100 mse0 0.07277 mse1 4.48584 loss 0.52136\n",
      "epoch 10 lr 0.0000100 mse0 0.04725 mse1 4.48486 loss 0.94422\n",
      "epoch 12 lr 0.0000100 mse0 0.03736 mse1 4.48256 loss 0.93387\n",
      "epoch 14 lr 0.0000100 mse0 0.03402 mse1 4.47969 loss 0.92996\n",
      "epoch 16 lr 0.0000100 mse0 0.03253 mse1 4.47531 loss 0.92759\n",
      "epoch 18 lr 0.0000100 mse0 0.03083 mse1 4.46748 loss 0.92433\n",
      "epoch 20 lr 0.0000100 mse0 0.02949 mse1 4.46090 loss 1.36776\n",
      "epoch 22 lr 0.0000100 mse0 0.02792 mse1 4.44975 loss 1.36284\n",
      "epoch 24 lr 0.0000100 mse0 0.02650 mse1 4.43851 loss 1.35806\n",
      "epoch 26 lr 0.0000100 mse0 0.02510 mse1 4.42652 loss 1.35306\n",
      "epoch 28 lr 0.0000100 mse0 0.02377 mse1 4.41351 loss 1.34782\n",
      "epoch 30 lr 0.0000100 mse0 0.02234 mse1 4.39916 loss 1.78200\n",
      "epoch 32 lr 0.0000100 mse0 0.02091 mse1 4.37688 loss 1.77166\n",
      "epoch 34 lr 0.0000100 mse0 0.01952 mse1 4.35218 loss 1.76039\n",
      "epoch 36 lr 0.0000100 mse0 0.01820 mse1 4.32347 loss 1.74759\n",
      "epoch 38 lr 0.0000100 mse0 0.01706 mse1 4.29077 loss 1.73336\n",
      "epoch 40 lr 0.0000100 mse0 0.01612 mse1 4.25547 loss 2.14386\n",
      "epoch 42 lr 0.0000100 mse0 0.01536 mse1 4.21312 loss 2.12192\n",
      "epoch 44 lr 0.0000100 mse0 0.01486 mse1 4.17363 loss 2.10167\n",
      "epoch 46 lr 0.0000100 mse0 0.01448 mse1 4.13717 loss 2.08306\n",
      "epoch 48 lr 0.0000100 mse0 0.01419 mse1 4.10367 loss 2.06602\n",
      "epoch 50 lr 0.0000100 mse0 0.01388 mse1 4.07399 loss 2.45827\n",
      "epoch 52 lr 0.0000100 mse0 0.01360 mse1 4.04346 loss 2.43968\n",
      "epoch 54 lr 0.0000100 mse0 0.01328 mse1 4.01622 loss 2.42301\n",
      "epoch 56 lr 0.0000100 mse0 0.01300 mse1 3.99152 loss 2.40791\n",
      "epoch 58 lr 0.0000100 mse0 0.01273 mse1 3.96863 loss 2.39391\n",
      "epoch 60 lr 0.0000100 mse0 0.01250 mse1 3.94716 loss 2.77551\n",
      "epoch 62 lr 0.0000100 mse0 0.01218 mse1 3.92004 loss 2.75621\n",
      "epoch 64 lr 0.0000100 mse0 0.01177 mse1 3.89137 loss 2.73573\n",
      "epoch 66 lr 0.0000100 mse0 0.01136 mse1 3.86135 loss 2.71431\n",
      "epoch 68 lr 0.0000100 mse0 0.01097 mse1 3.82944 loss 2.69158\n",
      "epoch 70 lr 0.0000100 mse0 0.01066 mse1 3.79701 loss 3.04826\n",
      "epoch 72 lr 0.0000100 mse0 0.01033 mse1 3.75928 loss 3.01775\n",
      "epoch 74 lr 0.0000100 mse0 0.00986 mse1 3.71849 loss 2.98466\n",
      "epoch 76 lr 0.0000100 mse0 0.00939 mse1 3.67466 loss 2.94912\n",
      "epoch 78 lr 0.0000100 mse0 0.00896 mse1 3.63099 loss 2.91375\n",
      "epoch 80 lr 0.0000100 mse0 0.00863 mse1 3.58658 loss 3.23655\n",
      "epoch 82 lr 0.0000100 mse0 0.00833 mse1 3.53428 loss 3.18918\n",
      "epoch 84 lr 0.0000100 mse0 0.00799 mse1 3.48028 loss 3.14024\n",
      "epoch 86 lr 0.0000100 mse0 0.00772 mse1 3.42631 loss 3.09140\n",
      "epoch 88 lr 0.0000100 mse0 0.00749 mse1 3.37161 loss 3.04194\n",
      "epoch 90 lr 0.0000100 mse0 0.00729 mse1 3.31824 loss 3.32554\n",
      "epoch 92 lr 0.0000100 mse0 0.00712 mse1 3.25342 loss 3.26054\n",
      "epoch 94 lr 0.0000100 mse0 0.00689 mse1 3.18926 loss 3.19615\n",
      "epoch 96 lr 0.0000100 mse0 0.00667 mse1 3.12303 loss 3.12970\n",
      "epoch 98 lr 0.0000100 mse0 0.00642 mse1 3.05757 loss 3.06400\n",
      "Best score: 0.5059712241134662\n",
      "562.0275030136108\n"
     ]
    },
    {
     "data": {
      "image/png": "[encoded data removed]",
      "text/plain": [
       "<Figure size 720x480 with 1 Axes>"
      ]
     },
     "metadata": {
      "needs_background": "light"
     },
     "output_type": "display_data"
    }
   ],
   "source": [
    "train_y = torch.cat([y_tr_ts, dy_tr_ts], dim = 1)\n",
    "\n",
    "tstart = time.time()\n",
    "x, y = Variable(x_tr_ts), Variable(train_y)\n",
    "\n",
    "net = Net(inp=16, out=1, activation=nn.ReLU(), num_hidden_units=120, num_layers=5)\n",
    "\n",
    "optimizer = torch.optim.Adam(net.parameters(), lr=1e-5, weight_decay=1e-6)\n",
    "scheduler = optim.lr_scheduler.StepLR(optimizer, step_size=1000, gamma=0.5)\n",
    "loss_func = torch.nn.MSELoss()  # this is for regression mean squared loss\n",
    "\n",
    "import torch.multiprocessing\n",
    "torch.multiprocessing.set_sharing_strategy('file_system')\n",
    "\n",
    "BATCH_SIZE = 500\n",
    "EPOCH = 100\n",
    "num_data = x_tr_ts.shape[1]\n",
    "print(num_data)\n",
    "torch_dataset = Data.TensorDataset(x, y)\n",
    "\n",
    "loader = Data.DataLoader(\n",
    "    dataset=torch_dataset,\n",
    "    batch_size=BATCH_SIZE,\n",
    "    shuffle=False, num_workers=2, )\n",
    "\n",
    "# Define derivative loss component to total loss\n",
    "lam1 = [.1, .2, .3, .4, .5, .6, .7, .8, .9, 1.0]\n",
    "state, lossTotal, lossRegular, lossDerivatives = train(lam1, loader, EPOCH, BATCH_SIZE)\n",
    "net.load_state_dict(state)\n",
    "\n",
    "tfinal1 = time.time() - tstart\n",
    "print (tfinal1)\n",
    "\n",
    "# Test points\n",
    "\n",
    "\n",
    "# gradx = getDerivatives(x_va_ts)\n",
    "plotLoss(lossTotal, lossRegular, lossDerivatives)\n"
   ]
  },
  {
   "cell_type": "code",
   "execution_count": 18,
   "metadata": {},
   "outputs": [
    {
     "data": {
      "text/plain": [
       "<matplotlib.legend.Legend at 0x1fb762d5a60>"
      ]
     },
     "execution_count": 18,
     "metadata": {},
     "output_type": "execute_result"
    },
    {
     "data": {
      "image/png": "[encoded data removed]",
      "text/plain": [
       "<Figure size 432x288 with 1 Axes>"
      ]
     },
     "metadata": {
      "needs_background": "light"
     },
     "output_type": "display_data"
    }
   ],
   "source": [
    "plt.plot(np.arange(len(lossTotal)),lossTotal,label='Total loss')\n",
    "plt.plot(np.arange(len(lossRegular)),lossRegular,label='lossRegular')\n",
    "plt.plot(np.arange(len(lossDerivatives)),lossDerivatives,label='lossDerivatives')\n",
    "plt.xlabel(\"epochs\")\n",
    "plt.ylabel(\"L/L0\")\n",
    "plt.legend()"
   ]
  },
  {
   "cell_type": "code",
   "execution_count": 19,
   "metadata": {},
   "outputs": [],
   "source": [
    "y_prediction = net(x_va_ts)\n",
    "\n",
    "x_va_ts.requires_grad = True\n",
    "\n",
    "y_prediction = net(x_va_ts)\n",
    "y_prediction.sum().backward()\n",
    "gradx_va = x_va_ts.grad\n",
    "x_va_ts.requires_grad = False"
   ]
  },
  {
   "cell_type": "code",
   "execution_count": 21,
   "metadata": {},
   "outputs": [
    {
     "name": "stdout",
     "output_type": "stream",
     "text": [
      "e_test is: 35.20696979412682\n",
      "e_test_bar is: 99.93838775996518\n"
     ]
    }
   ],
   "source": [
    "\n",
    "e_test = np.linalg.norm(y_prediction.detach().numpy()- yV)/np.linalg.norm(yV)\n",
    "print('e_test is:',e_test*100)\n",
    "\n",
    "e_test_bar = np.linalg.norm(gradx_va.reshape(-1,1)- dyV.reshape(-1,1))/np.linalg.norm(dyV.reshape(-1,1))\n",
    "print('e_test_bar is:',e_test_bar*100)\n",
    "\n"
   ]
  },
  {
   "cell_type": "code",
   "execution_count": null,
   "metadata": {},
   "outputs": [],
   "source": []
  }
 ],
 "metadata": {
  "kernelspec": {
   "display_name": "Python [conda env:python385]",
   "language": "python",
   "name": "conda-env-python385-py"
  },
  "language_info": {
   "codemirror_mode": {
    "name": "ipython",
    "version": 3
   },
   "file_extension": ".py",
   "mimetype": "text/x-python",
   "name": "python",
   "nbconvert_exporter": "python",
   "pygments_lexer": "ipython3",
   "version": "3.8.10"
  }
 },
 "nbformat": 4,
 "nbformat_minor": 4
}
