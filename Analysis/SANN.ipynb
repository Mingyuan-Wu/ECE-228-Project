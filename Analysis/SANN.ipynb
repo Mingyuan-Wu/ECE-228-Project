{
 "cells": [
  {
   "cell_type": "code",
   "execution_count": 27,
   "metadata": {},
   "outputs": [
    {
     "data": {
      "text/plain": [
       "<torch._C.Generator at 0x165f604fa50>"
      ]
     },
     "execution_count": 27,
     "metadata": {},
     "output_type": "execute_result"
    }
   ],
   "source": [
    "import torch\n",
    "from torch.autograd import Variable\n",
    "import torch.utils.data as Data\n",
    "import torch.nn as nn\n",
    "import matplotlib.pyplot as plt\n",
    "import torch.optim as optim\n",
    "\n",
    "from matplotlib import cm\n",
    "import numpy as np\n",
    "import copy\n",
    "\n",
    "import time\n",
    "torch.manual_seed(1)  # reproducible"
   ]
  },
  {
   "cell_type": "code",
   "execution_count": 28,
   "metadata": {},
   "outputs": [],
   "source": [
    "def franke(X, Y):\n",
    "    term1 = .75*torch.exp(-((9*X - 2).pow(2) + (9*Y - 2).pow(2))/4)\n",
    "    term2 = .75*torch.exp(-((9*X + 1).pow(2))/49 - (9*Y + 1)/10)\n",
    "    term3 = .5*torch.exp(-((9*X - 7).pow(2) + (9*Y - 3).pow(2))/4)\n",
    "    term4 = .2*torch.exp(-(9*X - 4).pow(2) - (9*Y - 7).pow(2))\n",
    "\n",
    "    f = term1 + term2 + term3 - term4\n",
    "    dfx = -2*(9*X - 2)*9/4 * term1 - 2*(9*X + 1)*9/49 * term2 + \\\n",
    "          -2*(9*X - 7)*9/4 * term3 + 2*(9*X - 4)*9 * term4\n",
    "    dfy = -2*(9*Y - 2)*9/4 * term1 - 9/10 * term2 + \\\n",
    "          -2*(9*Y - 3)*9/4 * term3 + 2*(9*Y - 7)*9 * term4\n",
    "\n",
    "    return f, dfx, dfy\n",
    "\n"
   ]
  },
  {
   "cell_type": "code",
   "execution_count": 29,
   "metadata": {},
   "outputs": [],
   "source": [
    "class Net(nn.Module):\n",
    "    def __init__(self,inp,out, activation, num_hidden_units=100, num_layers=1):\n",
    "        super(Net, self).__init__()\n",
    "        self.fc1 = nn.Linear(inp, num_hidden_units, bias=True)\n",
    "        torch.nn.Dropout(0.3)\n",
    "        self.fc2 = nn.ModuleList()\n",
    "        for i in range(num_layers):\n",
    "            self.fc2.append(nn.Linear(num_hidden_units, num_hidden_units, bias=True))\n",
    "            torch.nn.Dropout(0.3)\n",
    "        self.fc3 = nn.Linear(num_hidden_units, out, bias=True)\n",
    "        self.activation = activation\n",
    "\n",
    "    def forward(self, x):\n",
    "        x = self.fc1(x)\n",
    "        x = self.activation(x)\n",
    "        for fc in self.fc2:\n",
    "            x = fc(x)\n",
    "            x = self.activation(x)\n",
    "        x = self.fc3(x)\n",
    "        return x\n",
    "\n",
    "    def predict(self, x):\n",
    "        self.eval()\n",
    "        y = self(x)\n",
    "        x = x.cpu().numpy().flatten()\n",
    "        y = y.cpu().detach().numpy().flatten()\n",
    "        return [x, y]\n"
   ]
  },
  {
   "cell_type": "code",
   "execution_count": 30,
   "metadata": {},
   "outputs": [],
   "source": [
    "def init_weights(m):\n",
    "    classname = m.__class__.__name__\n",
    "    # for every Linear layer in a model..\n",
    "    if classname.find('Linear') != -1:\n",
    "        # apply a uniform distribution to the weights and a bias=0\n",
    "        n = m.in_features\n",
    "        y = 1.0 / np.sqrt(n)\n",
    "        m.weight.data.uniform_(-y, y)\n",
    "        m.bias.data.fill_(0)"
   ]
  },
  {
   "cell_type": "code",
   "execution_count": 31,
   "metadata": {},
   "outputs": [],
   "source": [
    "def getDerivatives(x):\n",
    "    x1 = x.requires_grad_(True)\n",
    "    output = net.eval()(x1)\n",
    "    nn = output.shape[0]\n",
    "    gradx = np.zeros((nn,16))\n",
    "    for ii in range(output.shape[0]):\n",
    "        y_def =output[ii].backward(retain_graph=True)\n",
    "        gradx[ii,:] = x1.grad[ii]\n",
    "    return gradx\n"
   ]
  },
  {
   "cell_type": "code",
   "execution_count": 32,
   "metadata": {},
   "outputs": [],
   "source": [
    "def plotLoss(lossTotal, lossRegular, lossDerivatives):\n",
    "\n",
    "    fig, ax = plt.subplots(1, 1, dpi=120)\n",
    "    plt.semilogy(lossTotal / lossTotal[0], label='Total loss')\n",
    "    plt.semilogy(lossRegular[:, 0] / lossRegular[0], label='Regular loss')\n",
    "    plt.semilogy(lossDerivatives[:, 0] / lossDerivatives[0], label='Derivatives loss')\n",
    "    ax.set_xlabel(\"epochs\")\n",
    "    ax.set_ylabel(\"L/L0\")\n",
    "    ax.legend()\n",
    "    fig.subplots_adjust(left=0.1, right=0.9, bottom=0.15, top=0.9, wspace=0.3, hspace=0.2)\n",
    "    #plt.savefig(\"figures/Loss.png\")\n",
    "    plt.show()"
   ]
  },
  {
   "cell_type": "code",
   "execution_count": 33,
   "metadata": {},
   "outputs": [],
   "source": [
    "def train(lam1, loader, EPOCH, BATCH_SIZE):\n",
    "    state = copy.deepcopy(net.state_dict())\n",
    "    best_loss = np.inf\n",
    "    \n",
    "\n",
    "    lossTotal = np.zeros((EPOCH, 1))\n",
    "    lossRegular = np.zeros((EPOCH, 1))\n",
    "    lossDerivatives = np.zeros((EPOCH, 1))\n",
    "    \n",
    "    # start training\n",
    "    for epoch in range(EPOCH):\n",
    "        epoch_mse0 = 0.0\n",
    "        epoch_mse1 = 0.0\n",
    "\n",
    "\n",
    "        for step, (batch_x, batch_y) in enumerate(loader):  # for each training step\n",
    "            \n",
    "            b_x = Variable(batch_x)\n",
    "            b_y = Variable(batch_y)\n",
    "\n",
    "\n",
    "            net.eval()\n",
    "            b_x.requires_grad = True\n",
    "\n",
    "            output0 = net(b_x)\n",
    "            output0.sum().backward(retain_graph=True, create_graph=True)\n",
    "            output1 = b_x.grad\n",
    "            b_x.requires_grad = False\n",
    "\n",
    "            net.train()\n",
    "\n",
    "            mse0 = loss_func(output0, b_y[:,0:1])\n",
    "            mse1 = loss_func(output1, b_y[:,1:17])\n",
    "            epoch_mse0 += mse0.item() * BATCH_SIZE\n",
    "            epoch_mse1 += mse1.item() * BATCH_SIZE\n",
    "\n",
    "            loss = mse0 + lam1 * mse1\n",
    "\n",
    "\n",
    "            optimizer.zero_grad()  # clear gradients for next train\n",
    "            loss.backward()  # backpropagation, compute gradients\n",
    "            optimizer.step()  # apply gradients\n",
    "\n",
    "        scheduler.step()\n",
    "        epoch_mse0 /= num_data\n",
    "        epoch_mse1 /= num_data\n",
    "        epoch_loss = epoch_mse0+lam1*epoch_mse1\n",
    "\n",
    "        y_pred = output0\n",
    "        \n",
    "        lossTotal[epoch] = epoch_loss\n",
    "        lossRegular[epoch] = epoch_mse0\n",
    "        lossDerivatives[epoch] = epoch_mse1\n",
    "        if epoch%2==0:\n",
    "            print('epoch', epoch,\n",
    "              'lr', '{:.7f}'.format(optimizer.param_groups[0]['lr']),\n",
    "              'mse0', '{:.5f}'.format(epoch_mse0),\n",
    "              'mse1', '{:.5f}'.format(epoch_mse1),\n",
    "              'loss', '{:.5f}'.format(epoch_loss))\n",
    "        if epoch_loss < best_loss:\n",
    "            best_loss = epoch_loss\n",
    "            state = copy.deepcopy(net.state_dict())\n",
    "    #state = copy.deepcopy(net.state_dict())\n",
    "    print('Best score:', best_loss)\n",
    "    return state, lossTotal, lossRegular, lossDerivatives"
   ]
  },
  {
   "cell_type": "code",
   "execution_count": 34,
   "metadata": {},
   "outputs": [
    {
     "name": "stdout",
     "output_type": "stream",
     "text": [
      "torch.Size([42039, 1])\n",
      "torch.Size([42039, 16])\n",
      "torch.Size([42039])\n",
      "torch.Size([42039, 17])\n",
      "torch.Size([42039, 17])\n"
     ]
    }
   ],
   "source": [
    "# Load both transonic and subsonic data\n",
    "X_subTr = np.loadtxt('X_subTr.dat')\n",
    "X_subV = np.loadtxt('X_subV.dat')\n",
    "y_subCdTr = (np.loadtxt('y_subCdTr.dat')).reshape((-1,1))\n",
    "y_subCdV = (np.loadtxt('y_subCdV.dat')).reshape((-1,1))\n",
    "dy_subCdTr = np.loadtxt('dy_subCdTr.dat')\n",
    "dy_subCdV = np.loadtxt('dy_subCdV.dat')\n",
    "XTr = X_subTr\n",
    "XV = X_subV\n",
    "yTr = y_subCdTr\n",
    "yV = y_subCdV\n",
    "dyTr = dy_subCdTr\n",
    "dyV = dy_subCdV\n",
    "x_tr_ts=torch.from_numpy(XTr).float()\n",
    "y_tr_ts=torch.from_numpy(yTr).float()\n",
    "x_va_ts=torch.from_numpy(XV).float()\n",
    "y_va_ts=torch.from_numpy(yV).float()\n",
    "dy_tr_ts = torch.from_numpy(dyTr).float()         \n",
    "dy_va_ts = torch.from_numpy(dyTr).float() \n",
    "print(np.shape(y_tr_ts))\n",
    "print(np.shape(dy_tr_ts))\n",
    "print(np.shape(torch.from_numpy(dyTr[:,0])))\n",
    "\n",
    "train_y = torch.cat([y_tr_ts, dy_tr_ts], dim = 1).squeeze(1)\n",
    "print(np.shape(train_y ))\n",
    "train_y = torch.cat([y_tr_ts, dy_tr_ts], dim = 1)\n",
    "print(np.shape(train_y ))"
   ]
  },
  {
   "cell_type": "code",
   "execution_count": 35,
   "metadata": {},
   "outputs": [
    {
     "data": {
      "text/plain": [
       "torch.Size([42039, 17])"
      ]
     },
     "execution_count": 35,
     "metadata": {},
     "output_type": "execute_result"
    }
   ],
   "source": [
    "train_y = torch.cat([y_tr_ts, dy_tr_ts], dim = 1)\n",
    "train_y.shape"
   ]
  },
  {
   "cell_type": "code",
   "execution_count": 36,
   "metadata": {},
   "outputs": [
    {
     "name": "stdout",
     "output_type": "stream",
     "text": [
      "16\n",
      "epoch 0 lr 0.0000100 mse0 10.31406 mse1 4.48278 loss 14.79684\n",
      "epoch 2 lr 0.0000100 mse0 2.57648 mse1 4.47879 loss 7.05526\n",
      "epoch 4 lr 0.0000100 mse0 0.37766 mse1 4.47950 loss 4.85716\n",
      "epoch 6 lr 0.0000100 mse0 0.12962 mse1 4.47414 loss 4.60376\n",
      "epoch 8 lr 0.0000100 mse0 0.07319 mse1 4.46993 loss 4.54312\n",
      "epoch 10 lr 0.0000100 mse0 0.04741 mse1 4.46280 loss 4.51022\n",
      "epoch 12 lr 0.0000100 mse0 0.03733 mse1 4.45371 loss 4.49104\n",
      "epoch 14 lr 0.0000100 mse0 0.03369 mse1 4.44236 loss 4.47605\n",
      "epoch 16 lr 0.0000100 mse0 0.03142 mse1 4.42476 loss 4.45618\n",
      "epoch 18 lr 0.0000100 mse0 0.02949 mse1 4.40516 loss 4.43465\n",
      "epoch 20 lr 0.0000100 mse0 0.02720 mse1 4.37924 loss 4.40644\n",
      "epoch 22 lr 0.0000100 mse0 0.02495 mse1 4.34848 loss 4.37343\n",
      "epoch 24 lr 0.0000100 mse0 0.02251 mse1 4.31230 loss 4.33480\n",
      "epoch 26 lr 0.0000100 mse0 0.01995 mse1 4.27095 loss 4.29090\n",
      "epoch 28 lr 0.0000100 mse0 0.01766 mse1 4.22836 loss 4.24602\n",
      "epoch 30 lr 0.0000100 mse0 0.01593 mse1 4.18867 loss 4.20460\n",
      "epoch 32 lr 0.0000100 mse0 0.01492 mse1 4.15162 loss 4.16655\n",
      "epoch 34 lr 0.0000100 mse0 0.01439 mse1 4.12047 loss 4.13486\n",
      "epoch 36 lr 0.0000100 mse0 0.01408 mse1 4.09505 loss 4.10913\n",
      "epoch 38 lr 0.0000100 mse0 0.01386 mse1 4.07402 loss 4.08788\n",
      "epoch 40 lr 0.0000100 mse0 0.01365 mse1 4.05537 loss 4.06901\n",
      "epoch 42 lr 0.0000100 mse0 0.01342 mse1 4.03779 loss 4.05121\n",
      "epoch 44 lr 0.0000100 mse0 0.01321 mse1 4.02121 loss 4.03442\n",
      "epoch 46 lr 0.0000100 mse0 0.01301 mse1 4.00480 loss 4.01781\n",
      "epoch 48 lr 0.0000100 mse0 0.01282 mse1 3.98840 loss 4.00122\n",
      "epoch 50 lr 0.0000100 mse0 0.01262 mse1 3.97135 loss 3.98397\n",
      "epoch 52 lr 0.0000100 mse0 0.01242 mse1 3.95407 loss 3.96648\n",
      "epoch 54 lr 0.0000100 mse0 0.01219 mse1 3.93473 loss 3.94692\n",
      "epoch 56 lr 0.0000100 mse0 0.01195 mse1 3.91455 loss 3.92650\n",
      "epoch 58 lr 0.0000100 mse0 0.01166 mse1 3.89111 loss 3.90277\n",
      "epoch 60 lr 0.0000100 mse0 0.01138 mse1 3.86774 loss 3.87913\n",
      "epoch 62 lr 0.0000100 mse0 0.01109 mse1 3.84081 loss 3.85190\n",
      "epoch 64 lr 0.0000100 mse0 0.01078 mse1 3.81191 loss 3.82269\n",
      "epoch 66 lr 0.0000100 mse0 0.01045 mse1 3.78006 loss 3.79051\n",
      "epoch 68 lr 0.0000100 mse0 0.01012 mse1 3.74470 loss 3.75482\n",
      "epoch 70 lr 0.0000100 mse0 0.00977 mse1 3.70589 loss 3.71566\n",
      "epoch 72 lr 0.0000100 mse0 0.00937 mse1 3.66351 loss 3.67289\n",
      "epoch 74 lr 0.0000100 mse0 0.00901 mse1 3.61882 loss 3.62783\n",
      "epoch 76 lr 0.0000100 mse0 0.00868 mse1 3.57395 loss 3.58263\n",
      "epoch 78 lr 0.0000100 mse0 0.00838 mse1 3.52770 loss 3.53608\n",
      "epoch 80 lr 0.0000100 mse0 0.00811 mse1 3.48055 loss 3.48866\n",
      "epoch 82 lr 0.0000100 mse0 0.00787 mse1 3.43158 loss 3.43946\n",
      "epoch 84 lr 0.0000100 mse0 0.00766 mse1 3.38157 loss 3.38923\n",
      "epoch 86 lr 0.0000100 mse0 0.00749 mse1 3.33087 loss 3.33836\n",
      "epoch 88 lr 0.0000100 mse0 0.00734 mse1 3.28182 loss 3.28916\n",
      "epoch 90 lr 0.0000100 mse0 0.00722 mse1 3.23172 loss 3.23894\n",
      "epoch 92 lr 0.0000100 mse0 0.00709 mse1 3.18163 loss 3.18873\n",
      "epoch 94 lr 0.0000100 mse0 0.00696 mse1 3.12835 loss 3.13531\n",
      "epoch 96 lr 0.0000100 mse0 0.00682 mse1 3.07320 loss 3.08002\n",
      "epoch 98 lr 0.0000100 mse0 0.00667 mse1 3.02091 loss 3.02757\n",
      "Best score: 3.0024758380278183\n",
      "944.7614016532898\n"
     ]
    },
    {
     "data": {
      "image/png": "[encoded data removed]",
      "text/plain": [
       "<Figure size 720x480 with 1 Axes>"
      ]
     },
     "metadata": {
      "needs_background": "light"
     },
     "output_type": "display_data"
    }
   ],
   "source": [
    "train_y = torch.cat([y_tr_ts, dy_tr_ts], dim = 1)\n",
    "\n",
    "tstart = time.time()\n",
    "x, y = Variable(x_tr_ts), Variable(train_y)\n",
    "\n",
    "net = Net(inp=16, out=1, activation=nn.ReLU(), num_hidden_units=120, num_layers=5)\n",
    "\n",
    "optimizer = torch.optim.Adam(net.parameters(), lr=1e-5, weight_decay=1e-6)\n",
    "scheduler = optim.lr_scheduler.StepLR(optimizer, step_size=1000, gamma=0.5)\n",
    "loss_func = torch.nn.MSELoss()  # this is for regression mean squared loss\n",
    "\n",
    "import torch.multiprocessing\n",
    "torch.multiprocessing.set_sharing_strategy('file_system')\n",
    "\n",
    "BATCH_SIZE = 500\n",
    "EPOCH = 100\n",
    "num_data = x_tr_ts.shape[1]\n",
    "print(num_data)\n",
    "torch_dataset = Data.TensorDataset(x, y)\n",
    "\n",
    "loader = Data.DataLoader(\n",
    "    dataset=torch_dataset,\n",
    "    batch_size=BATCH_SIZE,\n",
    "    shuffle=False, num_workers=2, )\n",
    "\n",
    "# Define derivative loss component to total loss\n",
    "lam1 = 1\n",
    "state, lossTotal, lossRegular, lossDerivatives = train(lam1, loader, EPOCH, BATCH_SIZE)\n",
    "net.load_state_dict(state)\n",
    "\n",
    "tfinal1 = time.time() - tstart\n",
    "print (tfinal1)\n",
    "\n",
    "# Test points\n",
    "\n",
    "\n",
    "# gradx = getDerivatives(x_va_ts)\n",
    "plotLoss(lossTotal, lossRegular, lossDerivatives)\n"
   ]
  },
  {
   "cell_type": "code",
   "execution_count": 37,
   "metadata": {},
   "outputs": [
    {
     "data": {
      "text/plain": [
       "<matplotlib.legend.Legend at 0x16662e49340>"
      ]
     },
     "execution_count": 37,
     "metadata": {},
     "output_type": "execute_result"
    },
    {
     "data": {
      "image/png": "[encoded data removed]",
      "text/plain": [
       "<Figure size 432x288 with 1 Axes>"
      ]
     },
     "metadata": {
      "needs_background": "light"
     },
     "output_type": "display_data"
    }
   ],
   "source": [
    "plt.plot(np.arange(len(lossTotal)),lossTotal,label='Total loss')\n",
    "plt.plot(np.arange(len(lossRegular)),lossRegular,label='lossRegular')\n",
    "plt.plot(np.arange(len(lossDerivatives)),lossDerivatives,label='lossDerivatives')\n",
    "plt.xlabel(\"epochs\")\n",
    "plt.ylabel(\"L/L0\")\n",
    "plt.legend()"
   ]
  },
  {
   "cell_type": "code",
   "execution_count": 38,
   "metadata": {},
   "outputs": [],
   "source": [
    "y_prediction = net(x_va_ts)\n",
    "\n",
    "x_va_ts.requires_grad = True\n",
    "\n",
    "y_prediction = net(x_va_ts)\n",
    "y_prediction.sum().backward()\n",
    "gradx_va = x_va_ts.grad\n",
    "x_va_ts.requires_grad = False"
   ]
  },
  {
   "cell_type": "code",
   "execution_count": 39,
   "metadata": {},
   "outputs": [
    {
     "name": "stdout",
     "output_type": "stream",
     "text": [
      "e_test is: 12.695280347994142\n",
      "e_test_bar is: 78.8003314959379\n"
     ]
    }
   ],
   "source": [
    "\n",
    "e_test = np.linalg.norm(y_prediction.detach().numpy()- yV)/np.linalg.norm(yV)\n",
    "print('e_test is:',e_test*100)\n",
    "\n",
    "e_test_bar = np.linalg.norm(gradx_va.reshape(-1,1)- dyV.reshape(-1,1))/np.linalg.norm(dyV.reshape(-1,1))\n",
    "print('e_test_bar is:',e_test_bar*100)\n",
    "\n"
   ]
  },
  {
   "cell_type": "code",
   "execution_count": null,
   "metadata": {},
   "outputs": [],
   "source": []
  }
 ],
 "metadata": {
  "kernelspec": {
   "display_name": "Python [conda env:python385]",
   "language": "python",
   "name": "conda-env-python385-py"
  },
  "language_info": {
   "codemirror_mode": {
    "name": "ipython",
    "version": 3
   },
   "file_extension": ".py",
   "mimetype": "text/x-python",
   "name": "python",
   "nbconvert_exporter": "python",
   "pygments_lexer": "ipython3",
   "version": "3.8.10"
  }
 },
 "nbformat": 4,
 "nbformat_minor": 4
}
