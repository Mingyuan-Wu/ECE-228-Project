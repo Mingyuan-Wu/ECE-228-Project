{
 "cells": [
  {
   "cell_type": "code",
   "execution_count": 1,
   "metadata": {},
   "outputs": [],
   "source": [
    "import torch\n",
    "import torch.utils.data as Data\n",
    "import torch.nn as nn\n",
    "import torch.optim as optim\n",
    "import torch.multiprocessing\n",
    "from torch.autograd import Variable\n",
    "\n",
    "import matplotlib.pyplot as plt\n",
    "import numpy as np\n",
    "import copy\n",
    "import time\n"
   ]
  },
  {
   "cell_type": "code",
   "execution_count": 2,
   "metadata": {},
   "outputs": [],
   "source": [
    "class Model(nn.Module):\n",
    "    def __init__(self,inp,out, activation, num_middle_units=120, num_layers=5):\n",
    "        super(Model, self).__init__()\n",
    "        self.input = nn.Linear(inp, num_middle_units, bias=True)\n",
    "        torch.nn.Dropout(0.3)\n",
    "        self.middle = nn.ModuleList()\n",
    "        for i in range(num_layers):\n",
    "            self.middle.append(nn.Linear(num_middle_units, num_middle_units, bias=True))\n",
    "            torch.nn.Dropout(0.3)\n",
    "        self.output = nn.Linear(num_middle_units, out, bias=True)\n",
    "        self.activation = activation\n",
    "\n",
    "    def forward(self, x):\n",
    "        x = self.input(x)\n",
    "        x = self.activation(x)\n",
    "        for f in self.middle:\n",
    "            x = f(x)\n",
    "            x = self.activation(x)\n",
    "        x = self.output(x)\n",
    "        return x\n",
    "\n",
    "    def predict(self, x):\n",
    "        self.eval()\n",
    "        y = self(x)\n",
    "        x = x.cpu().numpy().flatten()\n",
    "        y = y.cpu().detach().numpy().flatten()\n",
    "        return [x, y]\n"
   ]
  },
  {
   "cell_type": "code",
   "execution_count": 3,
   "metadata": {},
   "outputs": [],
   "source": [
    "def train(lam1, loader, EPOCH, BATCH_SIZE):\n",
    "    state = copy.deepcopy(model.state_dict())\n",
    "    best_loss = np.inf\n",
    "    \n",
    "\n",
    "    lossTotal = np.zeros((EPOCH, 1))\n",
    "    lossRegular = np.zeros((EPOCH, 1))\n",
    "    lossDerivatives = np.zeros((EPOCH, 1))\n",
    "    \n",
    "    n = np.array(lam1).shape[0]\n",
    "    m = EPOCH//n\n",
    "\n",
    "    for epoch in range(EPOCH):\n",
    "        epoch_mse_y = 0.0\n",
    "        epoch_mse_dy = 0.0\n",
    "        lamda = lam1[epoch%n]\n",
    "\n",
    "        for step, (batch_x, batch_y) in enumerate(loader):  # for each training step\n",
    "            \n",
    "            b_x = Variable(batch_x)\n",
    "            b_y = Variable(batch_y)\n",
    "\n",
    "\n",
    "            model.eval()\n",
    "            b_x.requires_grad = True\n",
    "\n",
    "            output_y = model(b_x)\n",
    "            output_y.sum().backward(retain_graph=True, create_graph=True)\n",
    "            output_dy = b_x.grad\n",
    "            b_x.requires_grad = False\n",
    "\n",
    "            model.train()\n",
    "\n",
    "            mse_y = loss_func(output_y, b_y[:,0:1])\n",
    "            mse_dy = loss_func(output_dy, b_y[:,1:17])\n",
    "            epoch_mse_y += mse_y.item() * BATCH_SIZE\n",
    "            epoch_mse_dy += mse_dy.item() * BATCH_SIZE\n",
    "\n",
    "            loss = mse_y + lamda * mse_dy\n",
    "\n",
    "\n",
    "            optimizer.zero_grad()  \n",
    "            loss.backward()  \n",
    "            optimizer.step()  \n",
    "\n",
    "        scheduler.step()\n",
    "        epoch_mse_y /= num_data\n",
    "        epoch_mse_dy /= num_data\n",
    "        epoch_loss = epoch_mse_y+lamda*epoch_mse_dy\n",
    "\n",
    "        y_pred = output_y\n",
    "        \n",
    "        lossTotal[epoch] = epoch_loss\n",
    "        lossRegular[epoch] = epoch_mse_y\n",
    "        lossDerivatives[epoch] = epoch_mse_dy\n",
    "        if epoch%2==0:\n",
    "            print('epoch', epoch,\n",
    "              'mse_y', '{:.7f}'.format(epoch_mse_y),\n",
    "              'mse_dy', '{:.7f}'.format(epoch_mse_dy),\n",
    "              'loss', '{:.7f}'.format(epoch_loss))\n",
    "        if epoch_loss < best_loss:\n",
    "            best_loss = epoch_loss\n",
    "            state = copy.deepcopy(model.state_dict())\n",
    "   \n",
    "    return state, lossTotal, lossRegular, lossDerivatives"
   ]
  },
  {
   "cell_type": "code",
   "execution_count": 4,
   "metadata": {},
   "outputs": [
    {
     "name": "stdout",
     "output_type": "stream",
     "text": [
      "torch.Size([42039, 1])\n",
      "torch.Size([42039, 16])\n",
      "torch.Size([42039])\n",
      "torch.Size([42039, 17])\n",
      "torch.Size([42039, 17])\n"
     ]
    }
   ],
   "source": [
    "# Load both transonic and subsonic data\n",
    "X_subTr = np.loadtxt('X_subTr.dat')\n",
    "X_subV = np.loadtxt('X_subV.dat')\n",
    "y_subCdTr = (np.loadtxt('y_subCdTr.dat')).reshape((-1,1))\n",
    "y_subCdV = (np.loadtxt('y_subCdV.dat')).reshape((-1,1))\n",
    "dy_subCdTr = np.loadtxt('dy_subCdTr.dat')\n",
    "dy_subCdV = np.loadtxt('dy_subCdV.dat')\n",
    "XTr = X_subTr\n",
    "XV = X_subV\n",
    "yTr = y_subCdTr\n",
    "yV = y_subCdV\n",
    "dyTr = dy_subCdTr\n",
    "dyV = dy_subCdV\n",
    "x_tr_ts=torch.from_numpy(XTr).float()\n",
    "y_tr_ts=torch.from_numpy(yTr).float()\n",
    "x_va_ts=torch.from_numpy(XV).float()\n",
    "y_va_ts=torch.from_numpy(yV).float()\n",
    "dy_tr_ts = torch.from_numpy(dyTr).float()         \n",
    "dy_va_ts = torch.from_numpy(dyTr).float() \n",
    "print(np.shape(y_tr_ts))\n",
    "print(np.shape(dy_tr_ts))\n",
    "print(np.shape(torch.from_numpy(dyTr[:,0])))\n",
    "\n",
    "train_y = torch.cat([y_tr_ts, dy_tr_ts], dim = 1).squeeze(1)\n",
    "print(np.shape(train_y ))\n",
    "train_y = torch.cat([y_tr_ts, dy_tr_ts], dim = 1)\n",
    "print(np.shape(train_y ))"
   ]
  },
  {
   "cell_type": "markdown",
   "metadata": {},
   "source": [
    "# ANN"
   ]
  },
  {
   "cell_type": "code",
   "execution_count": 5,
   "metadata": {
    "collapsed": true
   },
   "outputs": [
    {
     "name": "stdout",
     "output_type": "stream",
     "text": [
      "16\n",
      "epoch 0 mse_y 1.1883925 mse_dy 4.5035085 loss 1.1883925\n",
      "epoch 2 mse_y 0.0507323 mse_dy 4.5041297 loss 0.0507323\n",
      "epoch 4 mse_y 0.0351305 mse_dy 4.5002701 loss 0.0351305\n",
      "epoch 6 mse_y 0.0311842 mse_dy 4.4978980 loss 0.0311842\n",
      "epoch 8 mse_y 0.0293378 mse_dy 4.4949717 loss 0.0293378\n",
      "epoch 10 mse_y 0.0279498 mse_dy 4.4913614 loss 0.0279498\n",
      "epoch 12 mse_y 0.0266632 mse_dy 4.4875268 loss 0.0266632\n",
      "epoch 14 mse_y 0.0254935 mse_dy 4.4832712 loss 0.0254935\n",
      "epoch 16 mse_y 0.0244667 mse_dy 4.4798534 loss 0.0244667\n",
      "epoch 18 mse_y 0.0235320 mse_dy 4.4768862 loss 0.0235320\n",
      "epoch 20 mse_y 0.0225975 mse_dy 4.4741234 loss 0.0225975\n",
      "epoch 22 mse_y 0.0216705 mse_dy 4.4713175 loss 0.0216705\n",
      "epoch 24 mse_y 0.0208898 mse_dy 4.4685850 loss 0.0208898\n",
      "epoch 26 mse_y 0.0201920 mse_dy 4.4658814 loss 0.0201920\n",
      "epoch 28 mse_y 0.0195293 mse_dy 4.4632298 loss 0.0195293\n",
      "epoch 30 mse_y 0.0188837 mse_dy 4.4604942 loss 0.0188837\n",
      "epoch 32 mse_y 0.0183730 mse_dy 4.4576873 loss 0.0183730\n",
      "epoch 34 mse_y 0.0179487 mse_dy 4.4547933 loss 0.0179487\n",
      "epoch 36 mse_y 0.0175503 mse_dy 4.4519476 loss 0.0175503\n",
      "epoch 38 mse_y 0.0170706 mse_dy 4.4491376 loss 0.0170706\n",
      "epoch 40 mse_y 0.0168420 mse_dy 4.4460343 loss 0.0168420\n",
      "epoch 42 mse_y 0.0165593 mse_dy 4.4434114 loss 0.0165593\n",
      "epoch 44 mse_y 0.0162476 mse_dy 4.4400725 loss 0.0162476\n",
      "epoch 46 mse_y 0.0159534 mse_dy 4.4366066 loss 0.0159534\n",
      "epoch 48 mse_y 0.0156454 mse_dy 4.4337203 loss 0.0156454\n",
      "epoch 50 mse_y 0.0154374 mse_dy 4.4313369 loss 0.0154374\n",
      "epoch 52 mse_y 0.0152477 mse_dy 4.4292666 loss 0.0152477\n",
      "epoch 54 mse_y 0.0150739 mse_dy 4.4271897 loss 0.0150739\n",
      "epoch 56 mse_y 0.0149151 mse_dy 4.4252942 loss 0.0149151\n",
      "epoch 58 mse_y 0.0147619 mse_dy 4.4233483 loss 0.0147619\n",
      "epoch 60 mse_y 0.0146192 mse_dy 4.4214967 loss 0.0146192\n",
      "epoch 62 mse_y 0.0144760 mse_dy 4.4196023 loss 0.0144760\n",
      "epoch 64 mse_y 0.0143294 mse_dy 4.4177817 loss 0.0143294\n",
      "epoch 66 mse_y 0.0141876 mse_dy 4.4159401 loss 0.0141876\n",
      "epoch 68 mse_y 0.0140573 mse_dy 4.4140707 loss 0.0140573\n",
      "epoch 70 mse_y 0.0139329 mse_dy 4.4122721 loss 0.0139329\n",
      "epoch 72 mse_y 0.0138539 mse_dy 4.4109325 loss 0.0138539\n",
      "epoch 74 mse_y 0.0136874 mse_dy 4.4089626 loss 0.0136874\n",
      "epoch 76 mse_y 0.0136010 mse_dy 4.4070370 loss 0.0136010\n",
      "epoch 78 mse_y 0.0134980 mse_dy 4.4053132 loss 0.0134980\n",
      "epoch 80 mse_y 0.0133943 mse_dy 4.4036428 loss 0.0133943\n",
      "epoch 82 mse_y 0.0132971 mse_dy 4.4019477 loss 0.0132971\n",
      "epoch 84 mse_y 0.0131998 mse_dy 4.4002859 loss 0.0131998\n",
      "epoch 86 mse_y 0.0131059 mse_dy 4.3986888 loss 0.0131059\n",
      "epoch 88 mse_y 0.0130157 mse_dy 4.3971180 loss 0.0130157\n",
      "epoch 90 mse_y 0.0129299 mse_dy 4.3955289 loss 0.0129299\n",
      "epoch 92 mse_y 0.0128483 mse_dy 4.3940108 loss 0.0128483\n",
      "epoch 94 mse_y 0.0127676 mse_dy 4.3924888 loss 0.0127676\n",
      "epoch 96 mse_y 0.0126922 mse_dy 4.3909588 loss 0.0126922\n",
      "epoch 98 mse_y 0.0126177 mse_dy 4.3894855 loss 0.0126177\n",
      "epoch 100 mse_y 0.0125455 mse_dy 4.3879874 loss 0.0125455\n",
      "epoch 102 mse_y 0.0124751 mse_dy 4.3865122 loss 0.0124751\n",
      "epoch 104 mse_y 0.0124073 mse_dy 4.3850599 loss 0.0124073\n",
      "epoch 106 mse_y 0.0123373 mse_dy 4.3836492 loss 0.0123373\n",
      "epoch 108 mse_y 0.0122692 mse_dy 4.3822549 loss 0.0122692\n",
      "epoch 110 mse_y 0.0122025 mse_dy 4.3808411 loss 0.0122025\n",
      "epoch 112 mse_y 0.0121298 mse_dy 4.3793626 loss 0.0121298\n",
      "epoch 114 mse_y 0.0120495 mse_dy 4.3779092 loss 0.0120495\n",
      "epoch 116 mse_y 0.0119714 mse_dy 4.3762674 loss 0.0119714\n",
      "epoch 118 mse_y 0.0119217 mse_dy 4.3749883 loss 0.0119217\n",
      "epoch 120 mse_y 0.0118343 mse_dy 4.3733890 loss 0.0118343\n",
      "epoch 122 mse_y 0.0117752 mse_dy 4.3719482 loss 0.0117752\n",
      "epoch 124 mse_y 0.0117181 mse_dy 4.3705226 loss 0.0117181\n",
      "epoch 126 mse_y 0.0116470 mse_dy 4.3690700 loss 0.0116470\n",
      "epoch 128 mse_y 0.0115908 mse_dy 4.3676256 loss 0.0115908\n",
      "epoch 130 mse_y 0.0115210 mse_dy 4.3661914 loss 0.0115210\n",
      "epoch 132 mse_y 0.0114581 mse_dy 4.3647479 loss 0.0114581\n",
      "epoch 134 mse_y 0.0113879 mse_dy 4.3632907 loss 0.0113879\n",
      "epoch 136 mse_y 0.0113205 mse_dy 4.3617736 loss 0.0113205\n",
      "epoch 138 mse_y 0.0112526 mse_dy 4.3601564 loss 0.0112526\n",
      "epoch 140 mse_y 0.0111826 mse_dy 4.3585007 loss 0.0111826\n",
      "epoch 142 mse_y 0.0111068 mse_dy 4.3567643 loss 0.0111068\n",
      "epoch 144 mse_y 0.0110273 mse_dy 4.3550363 loss 0.0110273\n",
      "epoch 146 mse_y 0.0109539 mse_dy 4.3531285 loss 0.0109539\n",
      "epoch 148 mse_y 0.0109066 mse_dy 4.3516752 loss 0.0109066\n",
      "epoch 150 mse_y 0.0108445 mse_dy 4.3502712 loss 0.0108445\n",
      "epoch 152 mse_y 0.0107855 mse_dy 4.3489585 loss 0.0107855\n",
      "epoch 154 mse_y 0.0107258 mse_dy 4.3475720 loss 0.0107258\n",
      "epoch 156 mse_y 0.0106687 mse_dy 4.3462294 loss 0.0106687\n",
      "epoch 158 mse_y 0.0106085 mse_dy 4.3448900 loss 0.0106085\n",
      "epoch 160 mse_y 0.0105466 mse_dy 4.3434625 loss 0.0105466\n",
      "epoch 162 mse_y 0.0104766 mse_dy 4.3418534 loss 0.0104766\n",
      "epoch 164 mse_y 0.0104128 mse_dy 4.3402349 loss 0.0104128\n",
      "epoch 166 mse_y 0.0103496 mse_dy 4.3386005 loss 0.0103496\n",
      "epoch 168 mse_y 0.0102935 mse_dy 4.3369630 loss 0.0102935\n",
      "epoch 170 mse_y 0.0102319 mse_dy 4.3355050 loss 0.0102319\n",
      "epoch 172 mse_y 0.0101745 mse_dy 4.3340477 loss 0.0101745\n",
      "epoch 174 mse_y 0.0101173 mse_dy 4.3326191 loss 0.0101173\n",
      "epoch 176 mse_y 0.0100587 mse_dy 4.3311584 loss 0.0100587\n",
      "epoch 178 mse_y 0.0099830 mse_dy 4.3297696 loss 0.0099830\n",
      "epoch 180 mse_y 0.0099293 mse_dy 4.3282651 loss 0.0099293\n",
      "epoch 182 mse_y 0.0098754 mse_dy 4.3268096 loss 0.0098754\n",
      "epoch 184 mse_y 0.0098201 mse_dy 4.3253415 loss 0.0098201\n",
      "epoch 186 mse_y 0.0097612 mse_dy 4.3238257 loss 0.0097612\n",
      "epoch 188 mse_y 0.0097048 mse_dy 4.3223354 loss 0.0097048\n",
      "epoch 190 mse_y 0.0096495 mse_dy 4.3208525 loss 0.0096495\n",
      "epoch 192 mse_y 0.0095924 mse_dy 4.3193281 loss 0.0095924\n",
      "epoch 194 mse_y 0.0095378 mse_dy 4.3178679 loss 0.0095378\n",
      "epoch 196 mse_y 0.0094812 mse_dy 4.3163714 loss 0.0094812\n",
      "epoch 198 mse_y 0.0094262 mse_dy 4.3148629 loss 0.0094262\n",
      "1546.077292919159\n"
     ]
    },
    {
     "ename": "NameError",
     "evalue": "name 'plotLoss' is not defined",
     "output_type": "error",
     "traceback": [
      "\u001b[1;31m---------------------------------------------------------------------------\u001b[0m",
      "\u001b[1;31mNameError\u001b[0m                                 Traceback (most recent call last)",
      "\u001b[1;32m<ipython-input-5-6e1578a965cb>\u001b[0m in \u001b[0;36m<module>\u001b[1;34m\u001b[0m\n\u001b[0;32m     32\u001b[0m \u001b[1;33m\u001b[0m\u001b[0m\n\u001b[0;32m     33\u001b[0m \u001b[1;33m\u001b[0m\u001b[0m\n\u001b[1;32m---> 34\u001b[1;33m \u001b[0mplotLoss\u001b[0m\u001b[1;33m(\u001b[0m\u001b[0mlossTotal_ANN\u001b[0m\u001b[1;33m,\u001b[0m \u001b[0mlossRegular_ANN\u001b[0m\u001b[1;33m,\u001b[0m \u001b[0mlossDerivatives_ANN\u001b[0m\u001b[1;33m)\u001b[0m\u001b[1;33m\u001b[0m\u001b[1;33m\u001b[0m\u001b[0m\n\u001b[0m",
      "\u001b[1;31mNameError\u001b[0m: name 'plotLoss' is not defined"
     ]
    }
   ],
   "source": [
    "train_y = torch.cat([y_tr_ts, dy_tr_ts], dim = 1)\n",
    "\n",
    "tstart = time.time()\n",
    "x, y = Variable(x_tr_ts), Variable(train_y)\n",
    "\n",
    "model = Model(inp=16, out=1, activation=nn.ReLU(), num_middle_units=120, num_layers=5)\n",
    "\n",
    "optimizer = torch.optim.Adam(model.parameters(), lr=1e-5, weight_decay=1e-6)\n",
    "scheduler = optim.lr_scheduler.StepLR(optimizer, step_size=1000, gamma=0.5)\n",
    "loss_func = torch.nn.MSELoss() \n",
    "\n",
    "torch.multiprocessing.set_sharing_strategy('file_system')\n",
    "\n",
    "BATCH_SIZE = 500\n",
    "EPOCH = 200\n",
    "num_data = x_tr_ts.shape[1]\n",
    "print(num_data)\n",
    "torch_dataset = Data.TensorDataset(x, y)\n",
    "\n",
    "loader = Data.DataLoader(\n",
    "    dataset=torch_dataset,\n",
    "    batch_size=BATCH_SIZE,\n",
    "    shuffle=False, num_workers=2, )\n",
    "\n",
    "\n",
    "lam1 = [0]\n",
    "state, lossTotal_ANN, lossRegular_ANN, lossDerivatives_ANN = train(lam1, loader, EPOCH, BATCH_SIZE)\n",
    "model.load_state_dict(state)\n",
    "\n",
    "tfinal1 = time.time() - tstart\n",
    "print (tfinal1)\n",
    "\n",
    "\n",
    "\n"
   ]
  },
  {
   "cell_type": "code",
   "execution_count": 6,
   "metadata": {},
   "outputs": [
    {
     "data": {
      "text/plain": [
       "<matplotlib.legend.Legend at 0x1df9b646eb0>"
      ]
     },
     "execution_count": 6,
     "metadata": {},
     "output_type": "execute_result"
    },
    {
     "data": {
      "image/png": "[encoded data removed]",
      "text/plain": [
       "<Figure size 432x288 with 1 Axes>"
      ]
     },
     "metadata": {
      "needs_background": "light"
     },
     "output_type": "display_data"
    }
   ],
   "source": [
    "plt.plot(np.arange(len(lossTotal_ANN)),lossTotal_ANN,label='Total loss')\n",
    "plt.plot(np.arange(len(lossRegular_ANN)),lossRegular_ANN,label='lossRegular')\n",
    "plt.plot(np.arange(len(lossDerivatives_ANN)),lossDerivatives_ANN,label='lossDerivatives')\n",
    "plt.xlabel(\"epochs\")\n",
    "plt.ylabel(\"Loss\")\n",
    "plt.legend()"
   ]
  },
  {
   "cell_type": "code",
   "execution_count": 8,
   "metadata": {},
   "outputs": [
    {
     "name": "stdout",
     "output_type": "stream",
     "text": [
      "e_test is: 17.848982039535464\n",
      "e_test_bar is: 97.79226380534762\n"
     ]
    }
   ],
   "source": [
    "y_ANN = model(x_va_ts)\n",
    "\n",
    "x_va_ts.requires_grad = True\n",
    "\n",
    "y_ANN = model(x_va_ts)\n",
    "y_ANN.sum().backward()\n",
    "gradx_ANN = x_va_ts.grad\n",
    "x_va_ts.requires_grad = False\n",
    "\n",
    "e_test = np.linalg.norm(y_ANN.detach().numpy()- yV)/np.linalg.norm(yV)\n",
    "print('e_test is:',e_test*100)\n",
    "\n",
    "e_test_bar = np.linalg.norm(gradx_ANN.reshape(-1,1)- dyV.reshape(-1,1))/np.linalg.norm(dyV.reshape(-1,1))\n",
    "print('e_test_bar is:',e_test_bar*100)"
   ]
  },
  {
   "cell_type": "markdown",
   "metadata": {},
   "source": [
    "# SANN"
   ]
  },
  {
   "cell_type": "code",
   "execution_count": 9,
   "metadata": {
    "collapsed": true
   },
   "outputs": [
    {
     "name": "stdout",
     "output_type": "stream",
     "text": [
      "16\n",
      "epoch 0 mse_y 28.5505474 mse_dy 4.4893080 loss 33.0398554\n",
      "epoch 2 mse_y 12.6809290 mse_dy 4.4823394 loss 17.1632684\n",
      "epoch 4 mse_y 3.6900899 mse_dy 4.4744851 loss 8.1645750\n",
      "epoch 6 mse_y 0.5901693 mse_dy 4.4573171 loss 5.0474864\n",
      "epoch 8 mse_y 0.2121792 mse_dy 4.4483418 loss 4.6605210\n",
      "epoch 10 mse_y 0.0976355 mse_dy 4.4409231 loss 4.5385586\n",
      "epoch 12 mse_y 0.0539934 mse_dy 4.4328238 loss 4.4868172\n",
      "epoch 14 mse_y 0.0361745 mse_dy 4.4214141 loss 4.4575887\n",
      "epoch 16 mse_y 0.0279041 mse_dy 4.4081129 loss 4.4360170\n",
      "epoch 18 mse_y 0.0239248 mse_dy 4.3922463 loss 4.4161710\n",
      "epoch 20 mse_y 0.0217729 mse_dy 4.3717607 loss 4.3935336\n",
      "epoch 22 mse_y 0.0202202 mse_dy 4.3436492 loss 4.3638695\n",
      "epoch 24 mse_y 0.0189887 mse_dy 4.3159948 loss 4.3349835\n",
      "epoch 26 mse_y 0.0178591 mse_dy 4.2855366 loss 4.3033956\n",
      "epoch 28 mse_y 0.0168086 mse_dy 4.2541410 loss 4.2709496\n",
      "epoch 30 mse_y 0.0158991 mse_dy 4.2226842 loss 4.2385833\n",
      "epoch 32 mse_y 0.0151310 mse_dy 4.1921458 loss 4.2072768\n",
      "epoch 34 mse_y 0.0144848 mse_dy 4.1620642 loss 4.1765491\n",
      "epoch 36 mse_y 0.0139326 mse_dy 4.1341082 loss 4.1480408\n",
      "epoch 38 mse_y 0.0134359 mse_dy 4.1082065 loss 4.1216424\n",
      "epoch 40 mse_y 0.0129605 mse_dy 4.0850606 loss 4.0980210\n",
      "epoch 42 mse_y 0.0125546 mse_dy 4.0637699 loss 4.0763245\n",
      "epoch 44 mse_y 0.0122646 mse_dy 4.0435314 loss 4.0557960\n",
      "epoch 46 mse_y 0.0120670 mse_dy 4.0248538 loss 4.0369208\n",
      "epoch 48 mse_y 0.0119062 mse_dy 4.0067325 loss 4.0186387\n",
      "epoch 50 mse_y 0.0117446 mse_dy 3.9896664 loss 4.0014110\n",
      "epoch 52 mse_y 0.0116171 mse_dy 3.9735514 loss 3.9851685\n",
      "epoch 54 mse_y 0.0114686 mse_dy 3.9564451 loss 3.9679137\n",
      "epoch 56 mse_y 0.0113233 mse_dy 3.9401198 loss 3.9514432\n",
      "epoch 58 mse_y 0.0111816 mse_dy 3.9259160 loss 3.9370977\n",
      "epoch 60 mse_y 0.0110451 mse_dy 3.9097336 loss 3.9207787\n",
      "epoch 62 mse_y 0.0109106 mse_dy 3.8939985 loss 3.9049090\n",
      "epoch 64 mse_y 0.0107273 mse_dy 3.8750990 loss 3.8858263\n",
      "epoch 66 mse_y 0.0104398 mse_dy 3.8529966 loss 3.8634364\n",
      "epoch 68 mse_y 0.0102607 mse_dy 3.8356206 loss 3.8458813\n",
      "epoch 70 mse_y 0.0100559 mse_dy 3.8176414 loss 3.8276973\n",
      "epoch 72 mse_y 0.0098445 mse_dy 3.7982379 loss 3.8080824\n",
      "epoch 74 mse_y 0.0096393 mse_dy 3.7795720 loss 3.7892113\n",
      "epoch 76 mse_y 0.0094473 mse_dy 3.7588967 loss 3.7683440\n",
      "epoch 78 mse_y 0.0092513 mse_dy 3.7396464 loss 3.7488976\n",
      "epoch 80 mse_y 0.0090773 mse_dy 3.7172334 loss 3.7263107\n",
      "epoch 82 mse_y 0.0089213 mse_dy 3.6949319 loss 3.7038532\n",
      "epoch 84 mse_y 0.0087712 mse_dy 3.6717131 loss 3.6804843\n",
      "epoch 86 mse_y 0.0086346 mse_dy 3.6490281 loss 3.6576627\n",
      "epoch 88 mse_y 0.0085003 mse_dy 3.6249858 loss 3.6334862\n",
      "epoch 90 mse_y 0.0083782 mse_dy 3.5993835 loss 3.6077616\n",
      "epoch 92 mse_y 0.0082637 mse_dy 3.5736968 loss 3.5819605\n",
      "epoch 94 mse_y 0.0081573 mse_dy 3.5477560 loss 3.5559133\n",
      "epoch 96 mse_y 0.0080914 mse_dy 3.5220335 loss 3.5301248\n",
      "epoch 98 mse_y 0.0080490 mse_dy 3.4954318 loss 3.5034807\n",
      "epoch 100 mse_y 0.0080131 mse_dy 3.4698164 loss 3.4778296\n",
      "epoch 102 mse_y 0.0079969 mse_dy 3.4420788 loss 3.4500757\n",
      "epoch 104 mse_y 0.0079928 mse_dy 3.4133214 loss 3.4213141\n",
      "epoch 106 mse_y 0.0079856 mse_dy 3.3865571 loss 3.3945428\n",
      "epoch 108 mse_y 0.0079597 mse_dy 3.3606765 loss 3.3686363\n",
      "epoch 110 mse_y 0.0079267 mse_dy 3.3339371 loss 3.3418638\n",
      "epoch 112 mse_y 0.0078691 mse_dy 3.3049654 loss 3.3128345\n",
      "epoch 114 mse_y 0.0078258 mse_dy 3.2765332 loss 3.2843590\n",
      "epoch 116 mse_y 0.0077696 mse_dy 3.2501709 loss 3.2579405\n",
      "epoch 118 mse_y 0.0076900 mse_dy 3.2234430 loss 3.2311330\n",
      "epoch 120 mse_y 0.0076509 mse_dy 3.1987778 loss 3.2064287\n",
      "epoch 122 mse_y 0.0076441 mse_dy 3.1801508 loss 3.1877949\n",
      "epoch 124 mse_y 0.0076267 mse_dy 3.1599763 loss 3.1676030\n",
      "epoch 126 mse_y 0.0075898 mse_dy 3.1463403 loss 3.1539301\n",
      "epoch 128 mse_y 0.0075491 mse_dy 3.1284311 loss 3.1359802\n",
      "epoch 130 mse_y 0.0074516 mse_dy 3.1187280 loss 3.1261796\n",
      "epoch 132 mse_y 0.0073459 mse_dy 3.1023448 loss 3.1096906\n",
      "epoch 134 mse_y 0.0072459 mse_dy 3.0828737 loss 3.0901196\n",
      "epoch 136 mse_y 0.0071396 mse_dy 3.0663135 loss 3.0734530\n",
      "epoch 138 mse_y 0.0070872 mse_dy 3.0479187 loss 3.0550059\n",
      "epoch 140 mse_y 0.0070948 mse_dy 3.0294338 loss 3.0365287\n",
      "epoch 142 mse_y 0.0071105 mse_dy 3.0066568 loss 3.0137673\n",
      "epoch 144 mse_y 0.0071256 mse_dy 2.9837146 loss 2.9908402\n",
      "epoch 146 mse_y 0.0070704 mse_dy 2.9590182 loss 2.9660887\n",
      "epoch 148 mse_y 0.0069715 mse_dy 2.9310174 loss 2.9379888\n",
      "epoch 150 mse_y 0.0067922 mse_dy 2.9015153 loss 2.9083076\n",
      "epoch 152 mse_y 0.0065739 mse_dy 2.8704404 loss 2.8770143\n",
      "epoch 154 mse_y 0.0065212 mse_dy 2.8422031 loss 2.8487243\n",
      "epoch 156 mse_y 0.0065283 mse_dy 2.8261799 loss 2.8327082\n",
      "epoch 158 mse_y 0.0065398 mse_dy 2.8005207 loss 2.8070605\n",
      "epoch 160 mse_y 0.0065627 mse_dy 2.7856028 loss 2.7921655\n",
      "epoch 162 mse_y 0.0065423 mse_dy 2.7742517 loss 2.7807941\n",
      "epoch 164 mse_y 0.0065475 mse_dy 2.7541220 loss 2.7606695\n",
      "epoch 166 mse_y 0.0065560 mse_dy 2.7355770 loss 2.7421330\n",
      "epoch 168 mse_y 0.0065456 mse_dy 2.7144334 loss 2.7209790\n",
      "epoch 170 mse_y 0.0065079 mse_dy 2.7013251 loss 2.7078330\n",
      "epoch 172 mse_y 0.0064309 mse_dy 2.6916079 loss 2.6980389\n",
      "epoch 174 mse_y 0.0063576 mse_dy 2.6769451 loss 2.6833027\n",
      "epoch 176 mse_y 0.0062896 mse_dy 2.6758347 loss 2.6821243\n",
      "epoch 178 mse_y 0.0062283 mse_dy 2.6707471 loss 2.6769754\n",
      "epoch 180 mse_y 0.0062023 mse_dy 2.6754751 loss 2.6816774\n",
      "epoch 182 mse_y 0.0061617 mse_dy 2.6767041 loss 2.6828659\n",
      "epoch 184 mse_y 0.0061502 mse_dy 2.6871174 loss 2.6932676\n",
      "epoch 186 mse_y 0.0060779 mse_dy 2.6903899 loss 2.6964678\n",
      "epoch 188 mse_y 0.0059805 mse_dy 2.6873105 loss 2.6932910\n",
      "epoch 190 mse_y 0.0059127 mse_dy 2.6730244 loss 2.6789370\n",
      "epoch 192 mse_y 0.0058723 mse_dy 2.6611863 loss 2.6670586\n",
      "epoch 194 mse_y 0.0058953 mse_dy 2.6518859 loss 2.6577812\n",
      "epoch 196 mse_y 0.0058733 mse_dy 2.6375725 loss 2.6434458\n",
      "epoch 198 mse_y 0.0059531 mse_dy 2.6305340 loss 2.6364871\n",
      "2385.087056875229\n"
     ]
    },
    {
     "ename": "NameError",
     "evalue": "name 'plotLoss' is not defined",
     "output_type": "error",
     "traceback": [
      "\u001b[1;31m---------------------------------------------------------------------------\u001b[0m",
      "\u001b[1;31mNameError\u001b[0m                                 Traceback (most recent call last)",
      "\u001b[1;32m<ipython-input-9-e96f3a600409>\u001b[0m in \u001b[0;36m<module>\u001b[1;34m\u001b[0m\n\u001b[0;32m     31\u001b[0m \u001b[0mprint\u001b[0m \u001b[1;33m(\u001b[0m\u001b[0mtfinal1\u001b[0m\u001b[1;33m)\u001b[0m\u001b[1;33m\u001b[0m\u001b[1;33m\u001b[0m\u001b[0m\n\u001b[0;32m     32\u001b[0m \u001b[1;33m\u001b[0m\u001b[0m\n\u001b[1;32m---> 33\u001b[1;33m \u001b[0mplotLoss\u001b[0m\u001b[1;33m(\u001b[0m\u001b[0mlossTotal_SANN\u001b[0m\u001b[1;33m,\u001b[0m \u001b[0mlossRegular_SANN\u001b[0m\u001b[1;33m,\u001b[0m \u001b[0mlossDerivatives_SANN\u001b[0m\u001b[1;33m)\u001b[0m\u001b[1;33m\u001b[0m\u001b[1;33m\u001b[0m\u001b[0m\n\u001b[0m",
      "\u001b[1;31mNameError\u001b[0m: name 'plotLoss' is not defined"
     ]
    }
   ],
   "source": [
    "train_y = torch.cat([y_tr_ts, dy_tr_ts], dim = 1)\n",
    "\n",
    "tstart = time.time()\n",
    "x, y = Variable(x_tr_ts), Variable(train_y)\n",
    "\n",
    "model = Model(inp=16, out=1, activation=nn.ReLU(), num_middle_units=120, num_layers=5)\n",
    "\n",
    "optimizer = torch.optim.Adam(model.parameters(), lr=1e-5, weight_decay=1e-6)\n",
    "scheduler = optim.lr_scheduler.StepLR(optimizer, step_size=1000, gamma=0.5)\n",
    "loss_func = torch.nn.MSELoss()  \n",
    "\n",
    "\n",
    "torch.multiprocessing.set_sharing_strategy('file_system')\n",
    "\n",
    "BATCH_SIZE = 500\n",
    "EPOCH = 200\n",
    "num_data = x_tr_ts.shape[1]\n",
    "print(num_data)\n",
    "torch_dataset = Data.TensorDataset(x, y)\n",
    "\n",
    "loader = Data.DataLoader(\n",
    "    dataset=torch_dataset,\n",
    "    batch_size=BATCH_SIZE,\n",
    "    shuffle=False, num_workers=2, )\n",
    "\n",
    "lam1 = [1]\n",
    "state, lossTotal_SANN, lossRegular_SANN, lossDerivatives_SANN = train(lam1, loader, EPOCH, BATCH_SIZE)\n",
    "model.load_state_dict(state)\n",
    "\n",
    "tfinal1 = time.time() - tstart\n",
    "print (tfinal1)\n",
    "\n",
    "\n"
   ]
  },
  {
   "cell_type": "code",
   "execution_count": 10,
   "metadata": {},
   "outputs": [
    {
     "data": {
      "text/plain": [
       "<matplotlib.legend.Legend at 0x1df9b7359a0>"
      ]
     },
     "execution_count": 10,
     "metadata": {},
     "output_type": "execute_result"
    },
    {
     "data": {
      "image/png": "[encoded data removed]",
      "text/plain": [
       "<Figure size 432x288 with 1 Axes>"
      ]
     },
     "metadata": {
      "needs_background": "light"
     },
     "output_type": "display_data"
    }
   ],
   "source": [
    "plt.plot(np.arange(len(lossTotal_SANN)),lossTotal_SANN,label='Total loss')\n",
    "plt.plot(np.arange(len(lossRegular_SANN)),lossRegular_SANN,label='lossRegular')\n",
    "plt.plot(np.arange(len(lossDerivatives_SANN)),lossDerivatives_SANN,label='lossDerivatives')\n",
    "plt.xlabel(\"epochs\")\n",
    "plt.ylabel(\"Loss\")\n",
    "plt.legend()"
   ]
  },
  {
   "cell_type": "code",
   "execution_count": 11,
   "metadata": {},
   "outputs": [
    {
     "name": "stdout",
     "output_type": "stream",
     "text": [
      "e_test is: 12.011328233393174\n",
      "e_test_bar is: 78.47844945496963\n"
     ]
    }
   ],
   "source": [
    "y_SANN = model(x_va_ts)\n",
    "\n",
    "x_va_ts.requires_grad = True\n",
    "\n",
    "y_SANN = model(x_va_ts)\n",
    "y_SANN.sum().backward()\n",
    "gradx_SANN = x_va_ts.grad\n",
    "x_va_ts.requires_grad = False\n",
    "\n",
    "e_test = np.linalg.norm(y_SANN.detach().numpy()- yV)/np.linalg.norm(yV)\n",
    "print('e_test is:',e_test*100)\n",
    "\n",
    "e_test_bar = np.linalg.norm(gradx_SANN.reshape(-1,1)- dyV.reshape(-1,1))/np.linalg.norm(dyV.reshape(-1,1))\n",
    "print('e_test_bar is:',e_test_bar*100)"
   ]
  },
  {
   "cell_type": "markdown",
   "metadata": {},
   "source": [
    "# mSANN"
   ]
  },
  {
   "cell_type": "code",
   "execution_count": 12,
   "metadata": {
    "collapsed": true
   },
   "outputs": [
    {
     "name": "stdout",
     "output_type": "stream",
     "text": [
      "16\n",
      "epoch 0 mse_y 1.9482688 mse_dy 4.4913745 loss 3.0711124\n",
      "epoch 2 mse_y 0.1116342 mse_dy 4.4892382 loss 3.4785629\n",
      "epoch 4 mse_y 0.0544189 mse_dy 4.4886204 loss 1.1765740\n",
      "epoch 6 mse_y 0.0397216 mse_dy 4.4870877 loss 3.4050374\n",
      "epoch 8 mse_y 0.0348877 mse_dy 4.4804665 loss 1.1550043\n",
      "epoch 10 mse_y 0.0322944 mse_dy 4.4754732 loss 3.3888993\n",
      "epoch 12 mse_y 0.0300919 mse_dy 4.4632328 loss 1.1459001\n",
      "epoch 14 mse_y 0.0280535 mse_dy 4.4505184 loss 3.3659423\n",
      "epoch 16 mse_y 0.0255095 mse_dy 4.4253326 loss 1.1318426\n",
      "epoch 18 mse_y 0.0233740 mse_dy 4.4040490 loss 3.3264108\n",
      "epoch 20 mse_y 0.0201960 mse_dy 4.3646966 loss 1.1113701\n",
      "epoch 22 mse_y 0.0180976 mse_dy 4.3316158 loss 3.2668095\n",
      "epoch 24 mse_y 0.0154520 mse_dy 4.2769659 loss 1.0846935\n",
      "epoch 26 mse_y 0.0146784 mse_dy 4.2393552 loss 3.1941948\n",
      "epoch 28 mse_y 0.0136122 mse_dy 4.1865433 loss 1.0602480\n",
      "epoch 30 mse_y 0.0136718 mse_dy 4.1567815 loss 3.1312580\n",
      "epoch 32 mse_y 0.0129882 mse_dy 4.1165484 loss 1.0421253\n",
      "epoch 34 mse_y 0.0129856 mse_dy 4.0934052 loss 3.0830395\n",
      "epoch 36 mse_y 0.0123623 mse_dy 4.0646561 loss 1.0285263\n",
      "epoch 38 mse_y 0.0123869 mse_dy 4.0464401 loss 3.0472170\n",
      "epoch 40 mse_y 0.0118386 mse_dy 4.0221516 loss 1.0173765\n",
      "epoch 42 mse_y 0.0118032 mse_dy 4.0034926 loss 3.0144226\n",
      "epoch 44 mse_y 0.0113691 mse_dy 3.9804342 loss 1.0064776\n",
      "epoch 46 mse_y 0.0113161 mse_dy 3.9641923 loss 2.9844603\n",
      "epoch 48 mse_y 0.0109868 mse_dy 3.9391988 loss 0.9957865\n",
      "epoch 50 mse_y 0.0108764 mse_dy 3.9245571 loss 2.9542942\n",
      "epoch 52 mse_y 0.0106088 mse_dy 3.8989663 loss 0.9853503\n",
      "epoch 54 mse_y 0.0104068 mse_dy 3.8846618 loss 2.9239031\n",
      "epoch 56 mse_y 0.0101478 mse_dy 3.8518179 loss 0.9731023\n",
      "epoch 58 mse_y 0.0099459 mse_dy 3.8386212 loss 2.8889118\n",
      "epoch 60 mse_y 0.0097353 mse_dy 3.8010469 loss 0.9599970\n",
      "epoch 62 mse_y 0.0094984 mse_dy 3.7896203 loss 2.8517136\n",
      "epoch 64 mse_y 0.0093245 mse_dy 3.7474787 loss 0.9461941\n",
      "epoch 66 mse_y 0.0090709 mse_dy 3.7383023 loss 2.8127976\n",
      "epoch 68 mse_y 0.0089430 mse_dy 3.6940527 loss 0.9324562\n",
      "epoch 70 mse_y 0.0086815 mse_dy 3.6888337 loss 2.7753068\n",
      "epoch 72 mse_y 0.0086175 mse_dy 3.6421910 loss 0.9191652\n",
      "epoch 74 mse_y 0.0083544 mse_dy 3.6414093 loss 2.7394113\n",
      "epoch 76 mse_y 0.0083530 mse_dy 3.5916305 loss 0.9062606\n",
      "epoch 78 mse_y 0.0081122 mse_dy 3.5961704 loss 2.7052400\n",
      "epoch 80 mse_y 0.0081819 mse_dy 3.5432933 loss 0.8940052\n",
      "epoch 82 mse_y 0.0079448 mse_dy 3.5523233 loss 2.6721873\n",
      "epoch 84 mse_y 0.0080621 mse_dy 3.4989525 loss 0.8828002\n",
      "epoch 86 mse_y 0.0078420 mse_dy 3.5097411 loss 2.6401479\n",
      "epoch 88 mse_y 0.0079766 mse_dy 3.4518882 loss 0.8709486\n",
      "epoch 90 mse_y 0.0077655 mse_dy 3.4629395 loss 2.6049701\n",
      "epoch 92 mse_y 0.0078862 mse_dy 3.4025395 loss 0.8585211\n",
      "epoch 94 mse_y 0.0076787 mse_dy 3.4153602 loss 2.5691989\n",
      "epoch 96 mse_y 0.0077522 mse_dy 3.3501466 loss 0.8452889\n",
      "epoch 98 mse_y 0.0075611 mse_dy 3.3634156 loss 2.5301228\n",
      "epoch 100 mse_y 0.0075719 mse_dy 3.2886035 loss 0.8297228\n",
      "epoch 102 mse_y 0.0074115 mse_dy 3.3080439 loss 2.4884444\n",
      "epoch 104 mse_y 0.0073400 mse_dy 3.2252078 loss 0.8136419\n",
      "epoch 106 mse_y 0.0072053 mse_dy 3.2438445 loss 2.4400887\n",
      "epoch 108 mse_y 0.0070717 mse_dy 3.1540303 loss 0.7955793\n",
      "epoch 110 mse_y 0.0069556 mse_dy 3.1725993 loss 2.3864050\n",
      "epoch 112 mse_y 0.0067691 mse_dy 3.0783955 loss 0.7763680\n",
      "epoch 114 mse_y 0.0066610 mse_dy 3.0981684 loss 2.3302873\n",
      "epoch 116 mse_y 0.0064466 mse_dy 3.0002414 loss 0.7565070\n",
      "epoch 118 mse_y 0.0063487 mse_dy 3.0226495 loss 2.2733358\n",
      "epoch 120 mse_y 0.0061439 mse_dy 2.9237733 loss 0.7370872\n",
      "epoch 122 mse_y 0.0060458 mse_dy 2.9443544 loss 2.2143117\n",
      "epoch 124 mse_y 0.0058453 mse_dy 2.8446776 loss 0.7170147\n",
      "epoch 126 mse_y 0.0057250 mse_dy 2.8663872 loss 2.1555154\n",
      "epoch 128 mse_y 0.0055676 mse_dy 2.7641055 loss 0.6965940\n",
      "epoch 130 mse_y 0.0054136 mse_dy 2.7820192 loss 2.0919280\n",
      "epoch 132 mse_y 0.0053332 mse_dy 2.6877492 loss 0.6772705\n",
      "epoch 134 mse_y 0.0051457 mse_dy 2.7051180 loss 2.0339842\n",
      "epoch 136 mse_y 0.0051087 mse_dy 2.6171087 loss 0.6593859\n",
      "epoch 138 mse_y 0.0049010 mse_dy 2.6298069 loss 1.9772562\n",
      "epoch 140 mse_y 0.0048804 mse_dy 2.5449109 loss 0.6411081\n",
      "epoch 142 mse_y 0.0046652 mse_dy 2.5556240 loss 1.9213832\n",
      "epoch 144 mse_y 0.0046718 mse_dy 2.4745085 loss 0.6232989\n",
      "epoch 146 mse_y 0.0044697 mse_dy 2.4826654 loss 1.8664688\n",
      "epoch 148 mse_y 0.0045018 mse_dy 2.3988649 loss 0.6042180\n",
      "epoch 150 mse_y 0.0043117 mse_dy 2.4066264 loss 1.8092816\n",
      "epoch 152 mse_y 0.0043733 mse_dy 2.3243294 loss 0.5854556\n",
      "epoch 154 mse_y 0.0042278 mse_dy 2.3325407 loss 1.7536333\n",
      "epoch 156 mse_y 0.0042766 mse_dy 2.2546439 loss 0.5679376\n",
      "epoch 158 mse_y 0.0041626 mse_dy 2.2551366 loss 1.6955150\n",
      "epoch 160 mse_y 0.0041803 mse_dy 2.1805045 loss 0.5493064\n",
      "epoch 162 mse_y 0.0041255 mse_dy 2.1803990 loss 1.6394248\n",
      "epoch 164 mse_y 0.0040995 mse_dy 2.1014900 loss 0.5294720\n",
      "epoch 166 mse_y 0.0040574 mse_dy 2.0908517 loss 1.5721961\n",
      "epoch 168 mse_y 0.0039010 mse_dy 2.0178676 loss 0.5083679\n",
      "epoch 170 mse_y 0.0038053 mse_dy 2.0017203 loss 1.5050955\n",
      "epoch 172 mse_y 0.0036032 mse_dy 1.9438898 loss 0.4895756\n",
      "epoch 174 mse_y 0.0034471 mse_dy 1.9251558 loss 1.4473140\n",
      "epoch 176 mse_y 0.0032754 mse_dy 1.8712669 loss 0.4710922\n",
      "epoch 178 mse_y 0.0031040 mse_dy 1.8652718 loss 1.4020579\n",
      "epoch 180 mse_y 0.0029723 mse_dy 1.8074457 loss 0.4548337\n",
      "epoch 182 mse_y 0.0028548 mse_dy 1.8279510 loss 1.3738181\n",
      "epoch 184 mse_y 0.0027451 mse_dy 1.7573908 loss 0.4420928\n",
      "epoch 186 mse_y 0.0026514 mse_dy 1.7967854 loss 1.3502404\n",
      "epoch 188 mse_y 0.0025130 mse_dy 1.7010633 loss 0.4277789\n",
      "epoch 190 mse_y 0.0024580 mse_dy 1.7584934 loss 1.3213280\n",
      "epoch 192 mse_y 0.0022614 mse_dy 1.6326095 loss 0.4104138\n",
      "epoch 194 mse_y 0.0022547 mse_dy 1.7040529 loss 1.2802944\n",
      "epoch 196 mse_y 0.0020478 mse_dy 1.5683493 loss 0.3941351\n",
      "epoch 198 mse_y 0.0021091 mse_dy 1.6381691 loss 1.2307360\n",
      "epoch 200 mse_y 0.0019681 mse_dy 1.5457140 loss 0.3883966\n",
      "epoch 202 mse_y 0.0019768 mse_dy 1.5927812 loss 1.1965627\n",
      "epoch 204 mse_y 0.0017683 mse_dy 1.4906016 loss 0.3744188\n",
      "epoch 206 mse_y 0.0017704 mse_dy 1.5244537 loss 1.1451107\n",
      "epoch 208 mse_y 0.0016982 mse_dy 1.4647892 loss 0.3678955\n",
      "epoch 210 mse_y 0.0017800 mse_dy 1.5277990 loss 1.1476293\n",
      "epoch 212 mse_y 0.0016522 mse_dy 1.4539147 loss 0.3651309\n",
      "epoch 214 mse_y 0.0015913 mse_dy 1.4639624 loss 1.0995631\n",
      "epoch 216 mse_y 0.0014376 mse_dy 1.3622455 loss 0.3419990\n",
      "epoch 218 mse_y 0.0014882 mse_dy 1.3525515 loss 1.0159019\n",
      "epoch 220 mse_y 0.0016983 mse_dy 1.3215771 loss 0.3320925\n",
      "epoch 222 mse_y 0.0014375 mse_dy 1.2855982 loss 0.9656362\n",
      "epoch 224 mse_y 0.0028106 mse_dy 1.4829674 loss 0.3735524\n",
      "epoch 226 mse_y 0.0032794 mse_dy 1.8654148 loss 1.4023405\n",
      "epoch 228 mse_y 0.0016250 mse_dy 1.3025752 loss 0.3272688\n",
      "epoch 230 mse_y 0.0041094 mse_dy 2.0393204 loss 1.5335997\n",
      "epoch 232 mse_y 0.0027521 mse_dy 1.2874695 loss 0.3246195\n",
      "epoch 234 mse_y 0.0038619 mse_dy 2.0190469 loss 1.5181471\n",
      "epoch 236 mse_y 0.0054485 mse_dy 1.4098815 loss 0.3579189\n",
      "epoch 238 mse_y 0.0045227 mse_dy 2.1503077 loss 1.6172535\n",
      "epoch 240 mse_y 0.0061449 mse_dy 1.5047631 loss 0.3823357\n",
      "epoch 242 mse_y 0.0028867 mse_dy 1.6262082 loss 1.2225429\n",
      "epoch 244 mse_y 0.0034596 mse_dy 1.8168763 loss 0.4576787\n",
      "epoch 246 mse_y 0.0023020 mse_dy 1.4300462 loss 1.0748366\n",
      "epoch 248 mse_y 0.0030159 mse_dy 1.7285094 loss 0.4351432\n",
      "epoch 250 mse_y 0.0017760 mse_dy 1.2934397 loss 0.9718557\n",
      "epoch 252 mse_y 0.0017513 mse_dy 1.3935493 loss 0.3501386\n",
      "epoch 254 mse_y 0.0012784 mse_dy 1.2269244 loss 0.9214716\n",
      "epoch 256 mse_y 0.0019646 mse_dy 1.3582151 loss 0.3415184\n",
      "epoch 258 mse_y 0.0018124 mse_dy 1.4747627 loss 1.1078844\n",
      "epoch 260 mse_y 0.0016224 mse_dy 1.3120740 loss 0.3296409\n",
      "epoch 262 mse_y 0.0034384 mse_dy 1.2648576 loss 0.9520817\n",
      "epoch 264 mse_y 0.0015316 mse_dy 1.2180463 loss 0.3060432\n",
      "epoch 266 mse_y 0.0018446 mse_dy 1.3925934 loss 1.0462897\n",
      "epoch 268 mse_y 0.0013027 mse_dy 1.2669478 loss 0.3180396\n",
      "epoch 270 mse_y 0.0020502 mse_dy 1.4868851 loss 1.1172141\n",
      "epoch 272 mse_y 0.0024273 mse_dy 1.3342310 loss 0.3359851\n",
      "epoch 274 mse_y 0.0019154 mse_dy 1.5531519 loss 1.1667793\n",
      "epoch 276 mse_y 0.0014511 mse_dy 1.2869541 loss 0.3231896\n",
      "epoch 278 mse_y 0.0014839 mse_dy 1.3597116 loss 1.0212676\n",
      "epoch 280 mse_y 0.0021539 mse_dy 1.3751381 loss 0.3459384\n",
      "epoch 282 mse_y 0.0073422 mse_dy 1.7155124 loss 1.2939765\n",
      "epoch 284 mse_y 0.0157864 mse_dy 1.7336676 loss 0.4492033\n"
     ]
    },
    {
     "name": "stdout",
     "output_type": "stream",
     "text": [
      "epoch 286 mse_y 0.0020964 mse_dy 1.2636278 loss 0.9498173\n",
      "epoch 288 mse_y 0.0023324 mse_dy 1.4961237 loss 0.3763633\n",
      "epoch 290 mse_y 0.0019050 mse_dy 1.4523427 loss 1.0911620\n",
      "epoch 292 mse_y 0.0047180 mse_dy 1.3529567 loss 0.3429572\n",
      "epoch 294 mse_y 0.0021383 mse_dy 1.4835315 loss 1.1147869\n",
      "epoch 296 mse_y 0.0025156 mse_dy 1.6545585 loss 0.4161552\n",
      "epoch 298 mse_y 0.0016242 mse_dy 1.3879455 loss 1.0425834\n",
      "epoch 300 mse_y 0.0010891 mse_dy 1.2047767 loss 0.3022833\n",
      "epoch 302 mse_y 0.0011471 mse_dy 1.2284388 loss 0.9224762\n",
      "epoch 304 mse_y 0.0010484 mse_dy 1.2179105 loss 0.3055260\n",
      "epoch 306 mse_y 0.0035465 mse_dy 1.8584429 loss 1.3973787\n",
      "epoch 308 mse_y 0.0031525 mse_dy 1.2383377 loss 0.3127369\n",
      "epoch 310 mse_y 0.0011043 mse_dy 1.2169293 loss 0.9138013\n",
      "epoch 312 mse_y 0.0020504 mse_dy 1.4539639 loss 0.3655414\n",
      "epoch 314 mse_y 0.0016766 mse_dy 1.2808131 loss 0.9622864\n",
      "epoch 316 mse_y 0.0013119 mse_dy 1.3714022 loss 0.3441624\n",
      "epoch 318 mse_y 0.0017056 mse_dy 1.3700353 loss 1.0292321\n",
      "epoch 320 mse_y 0.0074746 mse_dy 1.4141997 loss 0.3610246\n",
      "epoch 322 mse_y 0.0019150 mse_dy 1.4986995 loss 1.1259396\n",
      "epoch 324 mse_y 0.0016402 mse_dy 1.3102892 loss 0.3292125\n",
      "epoch 326 mse_y 0.0053319 mse_dy 1.4009582 loss 1.0560506\n",
      "epoch 328 mse_y 0.0023002 mse_dy 1.3998465 loss 0.3522619\n",
      "epoch 330 mse_y 0.0009645 mse_dy 1.1933952 loss 0.8960110\n",
      "epoch 332 mse_y 0.0008544 mse_dy 1.1939289 loss 0.2993366\n",
      "epoch 334 mse_y 0.0012934 mse_dy 1.3177666 loss 0.9896184\n",
      "epoch 336 mse_y 0.0017415 mse_dy 1.2626553 loss 0.3174053\n",
      "epoch 338 mse_y 0.0022040 mse_dy 1.5202751 loss 1.1424103\n",
      "epoch 340 mse_y 0.0011983 mse_dy 1.1876208 loss 0.2981035\n",
      "epoch 342 mse_y 0.0008081 mse_dy 1.1634536 loss 0.8733983\n",
      "epoch 344 mse_y 0.0008246 mse_dy 1.1808121 loss 0.2960276\n",
      "epoch 346 mse_y 0.0008130 mse_dy 1.1752573 loss 0.8822560\n",
      "epoch 348 mse_y 0.0007603 mse_dy 1.1621083 loss 0.2912874\n",
      "epoch 350 mse_y 0.0011252 mse_dy 1.2005995 loss 0.9015748\n",
      "epoch 352 mse_y 0.0031890 mse_dy 1.4612904 loss 0.3685116\n",
      "epoch 354 mse_y 0.0027646 mse_dy 1.4809864 loss 1.1135044\n",
      "epoch 356 mse_y 0.0035788 mse_dy 1.8847933 loss 0.4747771\n",
      "epoch 358 mse_y 0.0031385 mse_dy 1.3069945 loss 0.9833844\n",
      "epoch 360 mse_y 0.0040516 mse_dy 1.3238199 loss 0.3350066\n",
      "epoch 362 mse_y 0.0018795 mse_dy 1.3547496 loss 1.0179417\n",
      "epoch 364 mse_y 0.0022584 mse_dy 1.2053798 loss 0.3036033\n",
      "epoch 366 mse_y 0.0019073 mse_dy 1.4331007 loss 1.0767328\n",
      "epoch 368 mse_y 0.0014621 mse_dy 1.2780043 loss 0.3209631\n",
      "epoch 370 mse_y 0.0023506 mse_dy 1.1715438 loss 0.8810085\n",
      "epoch 372 mse_y 0.0014987 mse_dy 1.2926115 loss 0.3246516\n",
      "epoch 374 mse_y 0.0011512 mse_dy 1.1886157 loss 0.8926129\n",
      "epoch 376 mse_y 0.0056002 mse_dy 1.2070332 loss 0.3073585\n",
      "epoch 378 mse_y 0.0021038 mse_dy 1.3744116 loss 1.0329125\n",
      "epoch 380 mse_y 0.0013179 mse_dy 1.2061238 loss 0.3028488\n",
      "epoch 382 mse_y 0.0030136 mse_dy 1.3355883 loss 1.0047048\n",
      "epoch 384 mse_y 0.0019488 mse_dy 1.2433999 loss 0.3127988\n",
      "epoch 386 mse_y 0.0014972 mse_dy 1.2272120 loss 0.9219062\n",
      "epoch 388 mse_y 0.0017774 mse_dy 1.3993835 loss 0.3516233\n",
      "epoch 390 mse_y 0.0011901 mse_dy 1.1442598 loss 0.8593849\n",
      "epoch 392 mse_y 0.0007501 mse_dy 1.1323834 loss 0.2838460\n",
      "epoch 394 mse_y 0.0007200 mse_dy 1.1177559 loss 0.8390369\n",
      "epoch 396 mse_y 0.0008623 mse_dy 1.1356895 loss 0.2847846\n",
      "epoch 398 mse_y 0.0008485 mse_dy 1.1255098 loss 0.8449809\n",
      "11703.42085146904\n"
     ]
    },
    {
     "ename": "NameError",
     "evalue": "name 'plotLoss' is not defined",
     "output_type": "error",
     "traceback": [
      "\u001b[1;31m---------------------------------------------------------------------------\u001b[0m",
      "\u001b[1;31mNameError\u001b[0m                                 Traceback (most recent call last)",
      "\u001b[1;32m<ipython-input-12-ec8c180b11eb>\u001b[0m in \u001b[0;36m<module>\u001b[1;34m\u001b[0m\n\u001b[0;32m     31\u001b[0m \u001b[1;33m\u001b[0m\u001b[0m\n\u001b[0;32m     32\u001b[0m \u001b[1;33m\u001b[0m\u001b[0m\n\u001b[1;32m---> 33\u001b[1;33m \u001b[0mplotLoss\u001b[0m\u001b[1;33m(\u001b[0m\u001b[0mlossTotal_mSANN\u001b[0m\u001b[1;33m,\u001b[0m \u001b[0mlossRegular_mSANN\u001b[0m\u001b[1;33m,\u001b[0m \u001b[0mlossDerivatives_mSANN\u001b[0m\u001b[1;33m)\u001b[0m\u001b[1;33m\u001b[0m\u001b[1;33m\u001b[0m\u001b[0m\n\u001b[0m",
      "\u001b[1;31mNameError\u001b[0m: name 'plotLoss' is not defined"
     ]
    }
   ],
   "source": [
    "train_y = torch.cat([y_tr_ts, dy_tr_ts], dim = 1)\n",
    "\n",
    "tstart = time.time()\n",
    "x, y = Variable(x_tr_ts), Variable(train_y)\n",
    "\n",
    "model = Model(inp=16, out=1, activation=nn.ReLU(), num_middle_units=120, num_layers=5)\n",
    "\n",
    "optimizer = torch.optim.Adam(model.parameters(), lr=1e-5, weight_decay=1e-6)\n",
    "scheduler = optim.lr_scheduler.StepLR(optimizer, step_size=1000, gamma=0.5)\n",
    "loss_func = torch.nn.MSELoss()  \n",
    "\n",
    "torch.multiprocessing.set_sharing_strategy('file_system')\n",
    "\n",
    "BATCH_SIZE = 500\n",
    "EPOCH = 400\n",
    "num_data = x_tr_ts.shape[1]\n",
    "print(num_data)\n",
    "torch_dataset = Data.TensorDataset(x, y)\n",
    "\n",
    "loader = Data.DataLoader(\n",
    "    dataset=torch_dataset,\n",
    "    batch_size=BATCH_SIZE,\n",
    "    shuffle=False, num_workers=2, )\n",
    "\n",
    "lam1 = [.25, .5, .75, 1.0]\n",
    "state, lossTotal_mSANN, lossRegular_mSANN, lossDerivatives_mSANN = train(lam1, loader, EPOCH, BATCH_SIZE)\n",
    "model.load_state_dict(state)\n",
    "\n",
    "tfinal1 = time.time() - tstart\n",
    "print (tfinal1)\n",
    "\n",
    "\n",
    "\n"
   ]
  },
  {
   "cell_type": "code",
   "execution_count": 13,
   "metadata": {},
   "outputs": [
    {
     "data": {
      "text/plain": [
       "<matplotlib.legend.Legend at 0x1dffafea1f0>"
      ]
     },
     "execution_count": 13,
     "metadata": {},
     "output_type": "execute_result"
    },
    {
     "data": {
      "image/png": "[encoded data removed]",
      "text/plain": [
       "<Figure size 432x288 with 1 Axes>"
      ]
     },
     "metadata": {
      "needs_background": "light"
     },
     "output_type": "display_data"
    }
   ],
   "source": [
    "plt.plot(np.arange(len(lossTotal_mSANN)),lossTotal_mSANN,label='Total loss')\n",
    "plt.plot(np.arange(len(lossRegular_mSANN)),lossRegular_mSANN,label='lossRegular')\n",
    "plt.plot(np.arange(len(lossDerivatives_mSANN)),lossDerivatives_mSANN,label='lossDerivatives')\n",
    "plt.xlabel(\"epochs\")\n",
    "plt.ylabel(\"Loss\")\n",
    "plt.legend()"
   ]
  },
  {
   "cell_type": "code",
   "execution_count": 14,
   "metadata": {},
   "outputs": [
    {
     "name": "stdout",
     "output_type": "stream",
     "text": [
      "e_test is: 4.396825880886346\n",
      "e_test_bar is: 85.0638531294488\n"
     ]
    }
   ],
   "source": [
    "y_mSANN = model(x_va_ts)\n",
    "\n",
    "x_va_ts.requires_grad = True\n",
    "\n",
    "y_mSANN = model(x_va_ts)\n",
    "y_mSANN.sum().backward()\n",
    "gradx_mSANN = x_va_ts.grad\n",
    "x_va_ts.requires_grad = False\n",
    "\n",
    "e_test = np.linalg.norm(y_mSANN.detach().numpy()- yV)/np.linalg.norm(yV)\n",
    "print('e_test is:',e_test*100)\n",
    "\n",
    "e_test_bar = np.linalg.norm(gradx_mSANN.reshape(-1,1)- dyV.reshape(-1,1))/np.linalg.norm(dyV.reshape(-1,1))\n",
    "print('e_test_bar is:',e_test_bar*100)\n",
    "\n"
   ]
  },
  {
   "cell_type": "code",
   "execution_count": 17,
   "metadata": {},
   "outputs": [],
   "source": [
    " y_mSANN_n = []\n",
    "lossRegular_mSANN_n = []\n",
    "lossDerivatives_mSANN_n = []\n",
    "\n",
    "for i in range(100):\n",
    "    y_mSANN_n.append(y_mSANN[4*i].detach().numpy())\n",
    "    lossRegular_mSANN_n = lossRegular_mSANN[4*i]\n",
    "    lossDerivatives_mSANN_n = lossDerivatives_mSANN[4*i]\n",
    "    \n",
    "    "
   ]
  },
  {
   "cell_type": "markdown",
   "metadata": {},
   "source": [
    "# plot prediction"
   ]
  },
  {
   "cell_type": "code",
   "execution_count": 31,
   "metadata": {},
   "outputs": [
    {
     "data": {
      "text/plain": [
       "<matplotlib.legend.Legend at 0x1e0650015b0>"
      ]
     },
     "execution_count": 31,
     "metadata": {},
     "output_type": "execute_result"
    },
    {
     "data": {
      "image/png": "[encoded data removed]",
      "text/plain": [
       "<Figure size 432x288 with 1 Axes>"
      ]
     },
     "metadata": {
      "needs_background": "light"
     },
     "output_type": "display_data"
    }
   ],
   "source": [
    "plt.scatter(yV,y_mSANN.detach().numpy(),label='mSANN')\n",
    "plt.scatter(yV,y_SANN.detach().numpy(),label='SANN')\n",
    "plt.scatter(yV,y_ANN.detach().numpy(),label='ANN')\n",
    "plt.plot([0,0.07],[0,0.07],label = 'Truth')\n",
    "plt.xlabel(\"Output\")\n",
    "plt.ylabel(\"Prediction\")\n",
    "plt.legend()"
   ]
  },
  {
   "cell_type": "markdown",
   "metadata": {},
   "source": [
    "# plot yLoss"
   ]
  },
  {
   "cell_type": "code",
   "execution_count": 34,
   "metadata": {},
   "outputs": [
    {
     "data": {
      "text/plain": [
       "<matplotlib.legend.Legend at 0x1e0d047b8e0>"
      ]
     },
     "execution_count": 34,
     "metadata": {},
     "output_type": "execute_result"
    },
    {
     "data": {
      "image/png": "[encoded data removed]",
      "text/plain": [
       "<Figure size 432x288 with 1 Axes>"
      ]
     },
     "metadata": {
      "needs_background": "light"
     },
     "output_type": "display_data"
    }
   ],
   "source": [
    "plt.loglog(range(len(lossRegular_ANN)),lossRegular_ANN,label='ANN')\n",
    "plt.loglog(range(len(lossRegular_SANN)),lossRegular_SANN,label='SANN')\n",
    "plt.loglog(range(len(lossRegular_mSANN_n)),lossRegular_mSANN_n,label='mSANN')\n",
    "plt.xlabel(\"epochs\")\n",
    "plt.ylabel(\"log(y)\")\n",
    "plt.legend()"
   ]
  },
  {
   "cell_type": "markdown",
   "metadata": {},
   "source": [
    "# plot dyLoss"
   ]
  },
  {
   "cell_type": "code",
   "execution_count": 35,
   "metadata": {},
   "outputs": [
    {
     "data": {
      "text/plain": [
       "<matplotlib.legend.Legend at 0x1e072c50ee0>"
      ]
     },
     "execution_count": 35,
     "metadata": {},
     "output_type": "execute_result"
    },
    {
     "data": {
      "image/png": "[encoded data removed]",
      "text/plain": [
       "<Figure size 432x288 with 1 Axes>"
      ]
     },
     "metadata": {
      "needs_background": "light"
     },
     "output_type": "display_data"
    }
   ],
   "source": [
    "plt.loglog(range(len(lossDerivatives_ANN)),lossDerivatives_ANN,label='ANN')\n",
    "plt.loglog(range(len(lossDerivatives_SANN)),lossDerivatives_SANN,label='SANN')\n",
    "plt.loglog(range(len(lossDerivatives_mSANN_n)),lossDerivatives_mSANN_n,label='mSANN')\n",
    "plt.xlabel(\"epochs\")\n",
    "plt.ylabel(\"log(dy)\")\n",
    "plt.legend()"
   ]
  },
  {
   "cell_type": "code",
   "execution_count": null,
   "metadata": {},
   "outputs": [],
   "source": []
  }
 ],
 "metadata": {
  "kernelspec": {
   "display_name": "Python [conda env:python385]",
   "language": "python",
   "name": "conda-env-python385-py"
  },
  "language_info": {
   "codemirror_mode": {
    "name": "ipython",
    "version": 3
   },
   "file_extension": ".py",
   "mimetype": "text/x-python",
   "name": "python",
   "nbconvert_exporter": "python",
   "pygments_lexer": "ipython3",
   "version": "3.8.10"
  }
 },
 "nbformat": 4,
 "nbformat_minor": 4
}
