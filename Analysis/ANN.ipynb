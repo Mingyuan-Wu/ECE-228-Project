{
 "cells": [
  {
   "cell_type": "code",
   "execution_count": 1,
   "metadata": {},
   "outputs": [
    {
     "data": {
      "text/plain": [
       "<torch._C.Generator at 0x1eeec01ea70>"
      ]
     },
     "execution_count": 1,
     "metadata": {},
     "output_type": "execute_result"
    }
   ],
   "source": [
    "import torch\n",
    "from torch.autograd import Variable\n",
    "import torch.utils.data as Data\n",
    "import torch.nn as nn\n",
    "import matplotlib.pyplot as plt\n",
    "import torch.optim as optim\n",
    "\n",
    "from matplotlib import cm\n",
    "import numpy as np\n",
    "import copy\n",
    "\n",
    "import time\n",
    "torch.manual_seed(1)  # reproducible"
   ]
  },
  {
   "cell_type": "code",
   "execution_count": 2,
   "metadata": {},
   "outputs": [],
   "source": [
    "class Net(nn.Module):\n",
    "    def __init__(self,inp,out, activation, num_hidden_units=100, num_layers=1):\n",
    "        super(Net, self).__init__()\n",
    "        self.fc1 = nn.Linear(inp, num_hidden_units, bias=True)\n",
    "        torch.nn.Dropout(0.3)\n",
    "        self.fc2 = nn.ModuleList()\n",
    "        for i in range(num_layers):\n",
    "            self.fc2.append(nn.Linear(num_hidden_units, num_hidden_units, bias=True))\n",
    "            torch.nn.Dropout(0.3)\n",
    "        self.fc3 = nn.Linear(num_hidden_units, out, bias=True)\n",
    "        self.activation = activation\n",
    "\n",
    "    def forward(self, x):\n",
    "        x = self.fc1(x)\n",
    "        x = self.activation(x)\n",
    "        for fc in self.fc2:\n",
    "            x = fc(x)\n",
    "            x = self.activation(x)\n",
    "        x = self.fc3(x)\n",
    "        return x\n",
    "\n",
    "    def predict(self, x):\n",
    "        self.eval()\n",
    "        y = self(x)\n",
    "        x = x.cpu().numpy().flatten()\n",
    "        y = y.cpu().detach().numpy().flatten()\n",
    "        return [x, y]\n"
   ]
  },
  {
   "cell_type": "code",
   "execution_count": 3,
   "metadata": {},
   "outputs": [],
   "source": [
    "def plotLoss(lossTotal, lossRegular, lossDerivatives):\n",
    "\n",
    "    fig, ax = plt.subplots(1, 1, dpi=120)\n",
    "    plt.semilogy(lossTotal / lossTotal[0], label='Total loss')\n",
    "    plt.semilogy(lossRegular[:, 0] / lossRegular[0], label='Regular loss')\n",
    "    plt.semilogy(lossDerivatives[:, 0] / lossDerivatives[0], label='Derivatives loss')\n",
    "    ax.set_xlabel(\"epochs\")\n",
    "    ax.set_ylabel(\"L/L0\")\n",
    "    ax.legend()\n",
    "    fig.subplots_adjust(left=0.1, right=0.9, bottom=0.15, top=0.9, wspace=0.3, hspace=0.2)\n",
    "    #plt.savefig(\"figures/Loss.png\")\n",
    "    plt.show()"
   ]
  },
  {
   "cell_type": "code",
   "execution_count": 4,
   "metadata": {},
   "outputs": [],
   "source": [
    "def train(lam1, loader, EPOCH, BATCH_SIZE):\n",
    "    state = copy.deepcopy(net.state_dict())\n",
    "    best_loss = np.inf\n",
    "    \n",
    "\n",
    "    lossTotal = np.zeros((EPOCH, 1))\n",
    "    lossRegular = np.zeros((EPOCH, 1))\n",
    "    lossDerivatives = np.zeros((EPOCH, 1))\n",
    "    \n",
    "    n = np.array(lam1).shape[0]\n",
    "    \n",
    "    # start training\n",
    "    for epoch in range(EPOCH):\n",
    "        epoch_mse0 = 0.0\n",
    "        epoch_mse1 = 0.0\n",
    "        lamda = lam1[epoch%n]\n",
    "\n",
    "        for step, (batch_x, batch_y) in enumerate(loader):  # for each training step\n",
    "            \n",
    "            b_x = Variable(batch_x)\n",
    "            b_y = Variable(batch_y)\n",
    "\n",
    "\n",
    "            net.eval()\n",
    "            b_x.requires_grad = True\n",
    "\n",
    "            output0 = net(b_x)\n",
    "            output0.sum().backward(retain_graph=True, create_graph=True)\n",
    "            output1 = b_x.grad\n",
    "            b_x.requires_grad = False\n",
    "\n",
    "            net.train()\n",
    "\n",
    "            mse0 = loss_func(output0, b_y[:,0:1])\n",
    "            mse1 = loss_func(output1, b_y[:,1:17])\n",
    "            epoch_mse0 += mse0.item() * BATCH_SIZE\n",
    "            epoch_mse1 += mse1.item() * BATCH_SIZE\n",
    "\n",
    "            loss = mse0 + lamda * mse1\n",
    "\n",
    "\n",
    "            optimizer.zero_grad()  # clear gradients for next train\n",
    "            loss.backward()  # backpropagation, compute gradients\n",
    "            optimizer.step()  # apply gradients\n",
    "\n",
    "        scheduler.step()\n",
    "        epoch_mse0 /= num_data\n",
    "        epoch_mse1 /= num_data\n",
    "        epoch_loss = epoch_mse0+lamda*epoch_mse1\n",
    "\n",
    "        y_pred = output0\n",
    "        \n",
    "        lossTotal[epoch] = epoch_loss\n",
    "        lossRegular[epoch] = epoch_mse0\n",
    "        lossDerivatives[epoch] = epoch_mse1\n",
    "        if epoch%2==0:\n",
    "            print('epoch', epoch,\n",
    "              'lr', '{:.7f}'.format(optimizer.param_groups[0]['lr']),\n",
    "              'mse0', '{:.5f}'.format(epoch_mse0),\n",
    "              'mse1', '{:.5f}'.format(epoch_mse1),\n",
    "              'loss', '{:.5f}'.format(epoch_loss))\n",
    "        if epoch_loss < best_loss:\n",
    "            best_loss = epoch_loss\n",
    "            state = copy.deepcopy(net.state_dict())\n",
    "    #state = copy.deepcopy(net.state_dict())\n",
    "    print('Best score:', best_loss)\n",
    "    return state, lossTotal, lossRegular, lossDerivatives"
   ]
  },
  {
   "cell_type": "code",
   "execution_count": 5,
   "metadata": {},
   "outputs": [
    {
     "name": "stdout",
     "output_type": "stream",
     "text": [
      "torch.Size([42039, 1])\n",
      "torch.Size([42039, 16])\n",
      "torch.Size([42039])\n",
      "torch.Size([42039, 17])\n",
      "torch.Size([42039, 17])\n"
     ]
    }
   ],
   "source": [
    "# Load both transonic and subsonic data\n",
    "X_subTr = np.loadtxt('X_subTr.dat')\n",
    "X_subV = np.loadtxt('X_subV.dat')\n",
    "y_subCdTr = (np.loadtxt('y_subCdTr.dat')).reshape((-1,1))\n",
    "y_subCdV = (np.loadtxt('y_subCdV.dat')).reshape((-1,1))\n",
    "dy_subCdTr = np.loadtxt('dy_subCdTr.dat')\n",
    "dy_subCdV = np.loadtxt('dy_subCdV.dat')\n",
    "XTr = X_subTr\n",
    "XV = X_subV\n",
    "yTr = y_subCdTr\n",
    "yV = y_subCdV\n",
    "dyTr = dy_subCdTr\n",
    "dyV = dy_subCdV\n",
    "x_tr_ts=torch.from_numpy(XTr).float()\n",
    "y_tr_ts=torch.from_numpy(yTr).float()\n",
    "x_va_ts=torch.from_numpy(XV).float()\n",
    "y_va_ts=torch.from_numpy(yV).float()\n",
    "dy_tr_ts = torch.from_numpy(dyTr).float()         \n",
    "dy_va_ts = torch.from_numpy(dyTr).float() \n",
    "print(np.shape(y_tr_ts))\n",
    "print(np.shape(dy_tr_ts))\n",
    "print(np.shape(torch.from_numpy(dyTr[:,0])))\n",
    "\n",
    "train_y = torch.cat([y_tr_ts, dy_tr_ts], dim = 1).squeeze(1)\n",
    "print(np.shape(train_y ))\n",
    "train_y = torch.cat([y_tr_ts, dy_tr_ts], dim = 1)\n",
    "print(np.shape(train_y ))"
   ]
  },
  {
   "cell_type": "code",
   "execution_count": 6,
   "metadata": {},
   "outputs": [
    {
     "data": {
      "text/plain": [
       "torch.Size([42039, 17])"
      ]
     },
     "execution_count": 6,
     "metadata": {},
     "output_type": "execute_result"
    }
   ],
   "source": [
    "train_y = torch.cat([y_tr_ts, dy_tr_ts], dim = 1)\n",
    "train_y.shape"
   ]
  },
  {
   "cell_type": "code",
   "execution_count": 7,
   "metadata": {},
   "outputs": [
    {
     "name": "stdout",
     "output_type": "stream",
     "text": [
      "16\n",
      "epoch 0 lr 0.0000100 mse0 10.31399 mse1 4.48312 loss 10.31399\n",
      "epoch 2 lr 0.0000100 mse0 2.57601 mse1 4.48079 loss 2.57601\n",
      "epoch 4 lr 0.0000100 mse0 0.37772 mse1 4.48660 loss 0.37772\n",
      "epoch 6 lr 0.0000100 mse0 0.13020 mse1 4.48821 loss 0.13020\n",
      "epoch 8 lr 0.0000100 mse0 0.07282 mse1 4.49091 loss 0.07282\n",
      "epoch 10 lr 0.0000100 mse0 0.04727 mse1 4.49151 loss 0.04727\n",
      "epoch 12 lr 0.0000100 mse0 0.03734 mse1 4.49264 loss 0.03734\n",
      "epoch 14 lr 0.0000100 mse0 0.03403 mse1 4.49342 loss 0.03403\n",
      "epoch 16 lr 0.0000100 mse0 0.03261 mse1 4.49353 loss 0.03261\n",
      "epoch 18 lr 0.0000100 mse0 0.03114 mse1 4.49043 loss 0.03114\n",
      "epoch 20 lr 0.0000100 mse0 0.02995 mse1 4.48933 loss 0.02995\n",
      "epoch 22 lr 0.0000100 mse0 0.02870 mse1 4.48748 loss 0.02870\n",
      "epoch 24 lr 0.0000100 mse0 0.02759 mse1 4.48634 loss 0.02759\n",
      "epoch 26 lr 0.0000100 mse0 0.02660 mse1 4.48565 loss 0.02660\n",
      "epoch 28 lr 0.0000100 mse0 0.02571 mse1 4.48532 loss 0.02571\n",
      "epoch 30 lr 0.0000100 mse0 0.02475 mse1 4.48580 loss 0.02475\n",
      "epoch 32 lr 0.0000100 mse0 0.02396 mse1 4.48514 loss 0.02396\n",
      "epoch 34 lr 0.0000100 mse0 0.02323 mse1 4.48424 loss 0.02323\n",
      "epoch 36 lr 0.0000100 mse0 0.02255 mse1 4.48345 loss 0.02255\n",
      "epoch 38 lr 0.0000100 mse0 0.02189 mse1 4.48326 loss 0.02189\n",
      "epoch 40 lr 0.0000100 mse0 0.02131 mse1 4.48203 loss 0.02131\n",
      "epoch 42 lr 0.0000100 mse0 0.02082 mse1 4.48065 loss 0.02082\n",
      "epoch 44 lr 0.0000100 mse0 0.02037 mse1 4.47921 loss 0.02037\n",
      "epoch 46 lr 0.0000100 mse0 0.01998 mse1 4.47773 loss 0.01998\n",
      "epoch 48 lr 0.0000100 mse0 0.01963 mse1 4.47614 loss 0.01963\n",
      "epoch 50 lr 0.0000100 mse0 0.01932 mse1 4.47440 loss 0.01932\n",
      "epoch 52 lr 0.0000100 mse0 0.01904 mse1 4.47268 loss 0.01904\n",
      "epoch 54 lr 0.0000100 mse0 0.01880 mse1 4.47107 loss 0.01880\n",
      "epoch 56 lr 0.0000100 mse0 0.01858 mse1 4.46947 loss 0.01858\n",
      "epoch 58 lr 0.0000100 mse0 0.01838 mse1 4.46793 loss 0.01838\n",
      "epoch 60 lr 0.0000100 mse0 0.01818 mse1 4.46641 loss 0.01818\n",
      "epoch 62 lr 0.0000100 mse0 0.01798 mse1 4.46485 loss 0.01798\n",
      "epoch 64 lr 0.0000100 mse0 0.01780 mse1 4.46343 loss 0.01780\n",
      "epoch 66 lr 0.0000100 mse0 0.01760 mse1 4.46182 loss 0.01760\n",
      "epoch 68 lr 0.0000100 mse0 0.01740 mse1 4.46028 loss 0.01740\n",
      "epoch 70 lr 0.0000100 mse0 0.01724 mse1 4.45891 loss 0.01724\n",
      "epoch 72 lr 0.0000100 mse0 0.01711 mse1 4.45749 loss 0.01711\n",
      "epoch 74 lr 0.0000100 mse0 0.01699 mse1 4.45608 loss 0.01699\n",
      "epoch 76 lr 0.0000100 mse0 0.01686 mse1 4.45458 loss 0.01686\n",
      "epoch 78 lr 0.0000100 mse0 0.01672 mse1 4.45312 loss 0.01672\n",
      "epoch 80 lr 0.0000100 mse0 0.01657 mse1 4.45162 loss 0.01657\n",
      "epoch 82 lr 0.0000100 mse0 0.01642 mse1 4.45027 loss 0.01642\n",
      "epoch 84 lr 0.0000100 mse0 0.01626 mse1 4.44889 loss 0.01626\n",
      "epoch 86 lr 0.0000100 mse0 0.01611 mse1 4.44755 loss 0.01611\n",
      "epoch 88 lr 0.0000100 mse0 0.01596 mse1 4.44621 loss 0.01596\n",
      "epoch 90 lr 0.0000100 mse0 0.01582 mse1 4.44493 loss 0.01582\n",
      "epoch 92 lr 0.0000100 mse0 0.01569 mse1 4.44370 loss 0.01569\n",
      "epoch 94 lr 0.0000100 mse0 0.01556 mse1 4.44247 loss 0.01556\n",
      "epoch 96 lr 0.0000100 mse0 0.01545 mse1 4.44125 loss 0.01545\n",
      "epoch 98 lr 0.0000100 mse0 0.01534 mse1 4.44008 loss 0.01534\n",
      "Best score: 0.015277962935655864\n",
      "410.9540762901306\n"
     ]
    },
    {
     "data": {
      "image/png": "[encoded data removed]",
      "text/plain": [
       "<Figure size 720x480 with 1 Axes>"
      ]
     },
     "metadata": {
      "needs_background": "light"
     },
     "output_type": "display_data"
    }
   ],
   "source": [
    "train_y = torch.cat([y_tr_ts, dy_tr_ts], dim = 1)\n",
    "\n",
    "tstart = time.time()\n",
    "x, y = Variable(x_tr_ts), Variable(train_y)\n",
    "\n",
    "net = Net(inp=16, out=1, activation=nn.ReLU(), num_hidden_units=120, num_layers=5)\n",
    "\n",
    "optimizer = torch.optim.Adam(net.parameters(), lr=1e-5, weight_decay=1e-6)\n",
    "scheduler = optim.lr_scheduler.StepLR(optimizer, step_size=1000, gamma=0.5)\n",
    "loss_func = torch.nn.MSELoss()  # this is for regression mean squared loss\n",
    "\n",
    "import torch.multiprocessing\n",
    "torch.multiprocessing.set_sharing_strategy('file_system')\n",
    "\n",
    "BATCH_SIZE = 500\n",
    "EPOCH = 100\n",
    "num_data = x_tr_ts.shape[1]\n",
    "print(num_data)\n",
    "torch_dataset = Data.TensorDataset(x, y)\n",
    "\n",
    "loader = Data.DataLoader(\n",
    "    dataset=torch_dataset,\n",
    "    batch_size=BATCH_SIZE,\n",
    "    shuffle=False, num_workers=2, )\n",
    "\n",
    "# Define derivative loss component to total loss\n",
    "lam1 = [0.0]\n",
    "state, lossTotal, lossRegular, lossDerivatives = train(lam1, loader, EPOCH, BATCH_SIZE)\n",
    "net.load_state_dict(state)\n",
    "\n",
    "tfinal1 = time.time() - tstart\n",
    "print (tfinal1)\n",
    "\n",
    "# Test points\n",
    "\n",
    "\n",
    "# gradx = getDerivatives(x_va_ts)\n",
    "plotLoss(lossTotal, lossRegular, lossDerivatives)\n"
   ]
  },
  {
   "cell_type": "code",
   "execution_count": 8,
   "metadata": {},
   "outputs": [
    {
     "data": {
      "text/plain": [
       "<matplotlib.legend.Legend at 0x1eeb8343550>"
      ]
     },
     "execution_count": 8,
     "metadata": {},
     "output_type": "execute_result"
    },
    {
     "data": {
      "image/png": "[encoded data removed]",
      "text/plain": [
       "<Figure size 432x288 with 1 Axes>"
      ]
     },
     "metadata": {
      "needs_background": "light"
     },
     "output_type": "display_data"
    }
   ],
   "source": [
    "plt.plot(np.arange(len(lossTotal)),lossTotal,label='Total loss')\n",
    "plt.plot(np.arange(len(lossRegular)),lossRegular,label='lossRegular')\n",
    "plt.plot(np.arange(len(lossDerivatives)),lossDerivatives,label='lossDerivatives')\n",
    "plt.xlabel(\"epochs\")\n",
    "plt.ylabel(\"L/L0\")\n",
    "plt.legend()"
   ]
  },
  {
   "cell_type": "code",
   "execution_count": 9,
   "metadata": {},
   "outputs": [],
   "source": [
    "y_prediction = net(x_va_ts)\n",
    "\n",
    "x_va_ts.requires_grad = True\n",
    "\n",
    "y_prediction = net(x_va_ts)\n",
    "y_prediction.sum().backward()\n",
    "gradx_va = x_va_ts.grad\n",
    "x_va_ts.requires_grad = False"
   ]
  },
  {
   "cell_type": "code",
   "execution_count": 10,
   "metadata": {},
   "outputs": [
    {
     "name": "stdout",
     "output_type": "stream",
     "text": [
      "e_test is: 24.417158134750512\n",
      "e_test_bar is: 99.3218310742547\n"
     ]
    }
   ],
   "source": [
    "\n",
    "e_test = np.linalg.norm(y_prediction.detach().numpy()- yV)/np.linalg.norm(yV)\n",
    "print('e_test is:',e_test*100)\n",
    "\n",
    "e_test_bar = np.linalg.norm(gradx_va.reshape(-1,1)- dyV.reshape(-1,1))/np.linalg.norm(dyV.reshape(-1,1))\n",
    "print('e_test_bar is:',e_test_bar*100)\n",
    "\n"
   ]
  },
  {
   "cell_type": "code",
   "execution_count": null,
   "metadata": {},
   "outputs": [],
   "source": []
  }
 ],
 "metadata": {
  "kernelspec": {
   "display_name": "Python [conda env:python385]",
   "language": "python",
   "name": "conda-env-python385-py"
  },
  "language_info": {
   "codemirror_mode": {
    "name": "ipython",
    "version": 3
   },
   "file_extension": ".py",
   "mimetype": "text/x-python",
   "name": "python",
   "nbconvert_exporter": "python",
   "pygments_lexer": "ipython3",
   "version": "3.8.10"
  }
 },
 "nbformat": 4,
 "nbformat_minor": 4
}
